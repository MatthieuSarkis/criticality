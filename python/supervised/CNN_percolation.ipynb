{
 "cells": [
  {
   "cell_type": "markdown",
   "metadata": {
    "id": "0j65zA8kG7tB"
   },
   "source": [
    "# Imports"
   ]
  },
  {
   "cell_type": "code",
   "execution_count": null,
   "metadata": {
    "executionInfo": {
     "elapsed": 2091,
     "status": "ok",
     "timestamp": 1609154969126,
     "user": {
      "displayName": "Matt",
      "photoUrl": "https://lh3.googleusercontent.com/a-/AOh14GgIzeuHHD36c1-IgguXB5KjqEoCp7UsZBNQGGvx5Q=s64",
      "userId": "13529861564108685423"
     },
     "user_tz": -540
    },
    "id": "wGZq_nDiG7tJ"
   },
   "outputs": [],
   "source": [
    "import tensorflow as tf\n",
    "import numpy as np\n",
    "import matplotlib.pyplot as plt\n",
    "import seaborn as sns\n",
    "from tensorflow.keras.layers import Input, Conv2D, Dense, Flatten, Dropout, \\\n",
    "GlobalMaxPooling2D, MaxPooling2D, BatchNormalization\n",
    "from tensorflow.keras.models import Model\n",
    "from sklearn.metrics import confusion_matrix\n",
    "from percolation import read_percolation_data\n",
    "from sklearn.model_selection import train_test_split\n",
    "import sys, os"
   ]
  },
  {
   "cell_type": "code",
   "execution_count": null,
   "metadata": {},
   "outputs": [],
   "source": [
    "from datetime import datetime\n",
    "# the time string for using as the name of output files\n",
    "start_time_string = datetime.now().strftime(\"%Y.%m.%d-%H.%M\")"
   ]
  },
  {
   "cell_type": "markdown",
   "metadata": {
    "id": "0xGNugguG7tK"
   },
   "source": [
    "# Loading and preprocessing the data"
   ]
  },
  {
   "cell_type": "code",
   "execution_count": null,
   "metadata": {},
   "outputs": [],
   "source": [
    "export_model_name = 'cnn-percolation'  # the base name of exported files\n",
    "\n",
    "L = 32\n",
    "round_digit = 2\n",
    "pc = 0.59275\n",
    "p_arr = np.round(np.arange(0.56, 0.63, 0.01), round_digit)"
   ]
  },
  {
   "cell_type": "code",
   "execution_count": null,
   "metadata": {},
   "outputs": [],
   "source": [
    "X, y, unique_labels = read_percolation_data(L, p_arr, pc, max_configs_per_p=1000)"
   ]
  },
  {
   "cell_type": "code",
   "execution_count": null,
   "metadata": {},
   "outputs": [],
   "source": [
    "print('X.shape={}\\ty.shape={}'.format(X.shape, y.shape))\n",
    "print('p_arr:', p_arr)\n",
    "print('labels:', unique_labels)"
   ]
  },
  {
   "cell_type": "code",
   "execution_count": null,
   "metadata": {},
   "outputs": [],
   "source": [
    "N = X.shape[0]\n",
    "L = X.shape[1] \n",
    "X_train, X_test, y_train, y_test = train_test_split(X, y, test_size=0.20, random_state=42, stratify=y)"
   ]
  },
  {
   "cell_type": "code",
   "execution_count": null,
   "metadata": {},
   "outputs": [],
   "source": [
    "print('X_train.shape={}\\ty_train.shape={}'.format(X_train.shape, y_train.shape))\n",
    "print('X_test.shape={}\\ty_test.shape={}'.format(X_test.shape, y_test.shape))"
   ]
  },
  {
   "cell_type": "code",
   "execution_count": null,
   "metadata": {
    "colab": {
     "base_uri": "https://localhost:8080/"
    },
    "executionInfo": {
     "elapsed": 754,
     "status": "ok",
     "timestamp": 1609154986398,
     "user": {
      "displayName": "Matt",
      "photoUrl": "https://lh3.googleusercontent.com/a-/AOh14GgIzeuHHD36c1-IgguXB5KjqEoCp7UsZBNQGGvx5Q=s64",
      "userId": "13529861564108685423"
     },
     "user_tz": -540
    },
    "id": "W5bbJ6lDG7tL",
    "outputId": "d1ef6d1b-782c-43fe-ce3e-53986a3301d0"
   },
   "outputs": [],
   "source": [
    "K = len(set(y_train))\n",
    "if K != len(unique_labels):\n",
    "    print ('# ERROR: mismatch between K and len(unique_labels)')\n",
    "    sys.exit()\n",
    "    \n",
    "print(\"number_of_classes:\", K)"
   ]
  },
  {
   "cell_type": "markdown",
   "metadata": {
    "id": "l5soKXf2G7tL"
   },
   "source": [
    "# Definition of the network and training for classification"
   ]
  },
  {
   "cell_type": "code",
   "execution_count": null,
   "metadata": {},
   "outputs": [],
   "source": [
    "def CNN_net(L, K):\n",
    "    # input layer\n",
    "    i = Input(shape=(L,L,1))\n",
    "\n",
    "    # Convolution block\n",
    "    x = Conv2D(32, (3,3), activation='relu', padding='same')(i)\n",
    "    x = BatchNormalization()(x)\n",
    "    x = Conv2D(32, (3,3), activation='relu', padding='same')(x)\n",
    "    x = BatchNormalization()(x)\n",
    "    x = MaxPooling2D((2,2))(x)\n",
    "    \n",
    "    x = Conv2D(64, (3,3), activation='relu', padding='same')(x)\n",
    "    x = BatchNormalization()(x)\n",
    "    x = Conv2D(64, (3,3), activation='relu', padding='same')(x)\n",
    "    x = BatchNormalization()(x)\n",
    "    x = MaxPooling2D((2,2))(x)\n",
    "    \n",
    "    x = Conv2D(128, (3,3), activation='relu', padding='same')(x)\n",
    "    x = BatchNormalization()(x)\n",
    "    x = Conv2D(128, (3,3), activation='relu', padding='same')(x)\n",
    "    x = BatchNormalization()(x)\n",
    "    x = MaxPooling2D((2,2))(x)\n",
    "\n",
    "    # Classification block\n",
    "    x = Flatten()(x)\n",
    "    x = Dropout(0.2)(x)\n",
    "    x = Dense(512, activation='relu')(x)\n",
    "    x = Dropout(0.2)(x)\n",
    "    x = Dense(1024, activation='relu')(x)\n",
    "    x = Dropout(0.2)(x)\n",
    "    x = Dense(K, activation='softmax')(x)\n",
    "\n",
    "    model = Model(i, x)\n",
    "    return model"
   ]
  },
  {
   "cell_type": "code",
   "execution_count": null,
   "metadata": {
    "executionInfo": {
     "elapsed": 6406,
     "status": "ok",
     "timestamp": 1609154993313,
     "user": {
      "displayName": "Matt",
      "photoUrl": "https://lh3.googleusercontent.com/a-/AOh14GgIzeuHHD36c1-IgguXB5KjqEoCp7UsZBNQGGvx5Q=s64",
      "userId": "13529861564108685423"
     },
     "user_tz": -540
    },
    "id": "EXbhuzgwG7tM"
   },
   "outputs": [],
   "source": [
    "model_phase = CNN_net(L, K)"
   ]
  },
  {
   "cell_type": "code",
   "execution_count": null,
   "metadata": {
    "executionInfo": {
     "elapsed": 696,
     "status": "ok",
     "timestamp": 1609154998542,
     "user": {
      "displayName": "Matt",
      "photoUrl": "https://lh3.googleusercontent.com/a-/AOh14GgIzeuHHD36c1-IgguXB5KjqEoCp7UsZBNQGGvx5Q=s64",
      "userId": "13529861564108685423"
     },
     "user_tz": -540
    },
    "id": "ceWWwqdZG7tM"
   },
   "outputs": [],
   "source": [
    "# Compiling the model\n",
    "\n",
    "# Inverse time decaying learning rate\n",
    "# initial_learning_rate / (1 + decay_rate * floor(step / decay_step))\n",
    "initial_learning_rate = 0.01\n",
    "decay_steps = 1.0\n",
    "decay_rate = 0.5\n",
    "learning_rate_fn = tf.keras.optimizers.schedules.InverseTimeDecay(initial_learning_rate, decay_steps, decay_rate)\n",
    "\n",
    "opt = tf.keras.optimizers.Adam(learning_rate=learning_rate_fn)\n",
    "model_phase.compile(optimizer=opt, loss='sparse_categorical_crossentropy', metrics=['accuracy'])\n",
    "\n",
    "# Callbacks\n",
    "early_stop = tf.keras.callbacks.EarlyStopping(monitor='val_loss', patience=7, mode='min')"
   ]
  },
  {
   "cell_type": "markdown",
   "metadata": {},
   "source": [
    "## Training"
   ]
  },
  {
   "cell_type": "code",
   "execution_count": null,
   "metadata": {},
   "outputs": [],
   "source": [
    "# training the model\n",
    "r_phase = model_phase.fit(X_train, y_train, validation_data=(X_test, y_test), epochs=10)"
   ]
  },
  {
   "cell_type": "markdown",
   "metadata": {},
   "source": [
    "## Exporting the model"
   ]
  },
  {
   "cell_type": "code",
   "execution_count": null,
   "metadata": {},
   "outputs": [],
   "source": [
    "home_pwd = os.path.expanduser(\"~\")  # the path of home directory of current user\n",
    "out_pwd = os.path.join(home_pwd, 'models') \n",
    "os.makedirs(out_pwd, exist_ok=True)  # create a directory at $home/models\n",
    "\n",
    "#current_time_string = datetime.now().strftime(\"%Y.%m.%d-%H.%M\")\n",
    "fname = start_time_string + '--' + export_model_name + '.h5'\n",
    "fpath = os.path.join(out_pwd, fname)\n",
    "\n",
    "model_phase.save(fpath)"
   ]
  },
  {
   "cell_type": "markdown",
   "metadata": {},
   "source": [
    "## Loading a model"
   ]
  },
  {
   "cell_type": "code",
   "execution_count": null,
   "metadata": {},
   "outputs": [],
   "source": [
    "# to load it:\n",
    "#model_phase = tf.keras.models.load_model('~/ml/research/criticality_trained_models/cnn_ising_phase.h5')"
   ]
  },
  {
   "cell_type": "markdown",
   "metadata": {},
   "source": [
    "## Plots"
   ]
  },
  {
   "cell_type": "code",
   "execution_count": null,
   "metadata": {
    "colab": {
     "base_uri": "https://localhost:8080/",
     "height": 282
    },
    "executionInfo": {
     "elapsed": 1268392,
     "status": "ok",
     "timestamp": 1609156274480,
     "user": {
      "displayName": "Matt",
      "photoUrl": "https://lh3.googleusercontent.com/a-/AOh14GgIzeuHHD36c1-IgguXB5KjqEoCp7UsZBNQGGvx5Q=s64",
      "userId": "13529861564108685423"
     },
     "user_tz": -540
    },
    "id": "JoQMrkJYG7tN",
    "outputId": "87b8bc10-595d-4619-ace0-8219c6667e43"
   },
   "outputs": [],
   "source": [
    "import pandas as pd\n",
    "dframe = pd.DataFrame(r_phase.history)\n",
    "\n",
    "dfrme_accu = dframe[['accuracy', 'val_accuracy']]\n",
    "dfrme_accu.plot()\n",
    "plt.grid(True)\n",
    "\n",
    "dfrme_loss = dframe[['loss', 'val_loss']]\n",
    "dfrme_loss.plot()\n",
    "plt.grid(True)\n"
   ]
  },
  {
   "cell_type": "code",
   "execution_count": null,
   "metadata": {
    "id": "e_Ut01OXHQwj"
   },
   "outputs": [],
   "source": [
    "# Let us plot the confusion matrix\n",
    "p_test = model_phase.predict(X_test).argmax(axis=1)\n",
    "conf_matrix = confusion_matrix(y_test, p_test)"
   ]
  },
  {
   "cell_type": "code",
   "execution_count": null,
   "metadata": {},
   "outputs": [],
   "source": [
    "plt.figure(figsize=(7,7))\n",
    "sns.heatmap(conf_matrix, cmap='Blues', annot=True,\n",
    "           xticklabels=p_arr, yticklabels=p_arr)\n",
    "plt.xlabel('predicted')\n",
    "plt.ylabel('true label')\n",
    "#plt.savefig('./saved_images/cnn_percolation([0.57, 0.58, 0.61, 0.62, pc], L=256).jpg')\n",
    "plt.show()"
   ]
  }
 ],
 "metadata": {
  "kernelspec": {
   "display_name": "Python 3",
   "language": "python",
   "name": "python3"
  },
  "language_info": {
   "codemirror_mode": {
    "name": "ipython",
    "version": 3
   },
   "file_extension": ".py",
   "mimetype": "text/x-python",
   "name": "python",
   "nbconvert_exporter": "python",
   "pygments_lexer": "ipython3",
   "version": "3.8.5"
  }
 },
 "nbformat": 4,
 "nbformat_minor": 4
}
