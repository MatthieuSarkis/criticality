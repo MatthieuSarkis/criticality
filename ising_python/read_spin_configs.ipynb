{
 "cells": [
  {
   "cell_type": "code",
   "execution_count": 7,
   "metadata": {},
   "outputs": [],
   "source": [
    "import glob\n",
    "import os\n",
    "import numpy as np\n",
    "def read_data(idir, L, T, max_n_configs=-1, base='spin', fmt='.bins'):\n",
    "    pattern = os.path.join(idir, '{}(L={},T={:.4f})*{}'.format(base,L, T, fmt))\n",
    "    flist = glob.glob(pattern)\n",
    "    \n",
    "    if len(flist) == 0:\n",
    "        return np.empty(0)\n",
    "    \n",
    "    data = []\n",
    "    for path in flist:\n",
    "        data.append(np.fromfile(path, dtype='int8'))\n",
    "        \n",
    "    data = np.array(data).reshape(-1,L,L,1)\n",
    "    \n",
    "    if max_n_configs > 0:\n",
    "        return data[:max_n_configs, :, :, :]\n",
    "    return data"
   ]
  },
  {
   "cell_type": "code",
   "execution_count": 8,
   "metadata": {},
   "outputs": [],
   "source": [
    "def merge_data(idir, L, T_arr, Tc, max_configs_per_temperature=-1):\n",
    "    X = []\n",
    "    y = []\n",
    "    for T in T_arr:\n",
    "        \n",
    "        if T < Tc: \n",
    "            label = 0\n",
    "        elif T > Tc:\n",
    "            label = 1\n",
    "        else:\n",
    "            label = 2\n",
    "            \n",
    "        XT = read_data(idir, L, T, max_configs_per_temperature)\n",
    "        if XT.size == 0:\n",
    "            continue\n",
    "        yT = np.full((XT.shape[0],), label)\n",
    "        \n",
    "        X.append(XT)\n",
    "        y.append(yT)\n",
    "    \n",
    "    X = np.array(X).reshape(-1,L,L,1)\n",
    "    y = np.array(y).reshape(-1,)\n",
    "    \n",
    "    return X, y"
   ]
  },
  {
   "cell_type": "code",
   "execution_count": 12,
   "metadata": {},
   "outputs": [],
   "source": [
    "if __name__ == '__main__':\n",
    "    idir = r'/Users/matthieu.sarkis/Desktop/L=128'\n",
    "    L = 128\n",
    "    Tc = 2.2692\n",
    "    T_arr = np.round(np.arange(1.8, 1.801, 0.01), 4)\n",
    "    T_arr = np.append(T_arr, Tc)\n",
    "    \n",
    "    X, y = merge_data(idir, L, T_arr, Tc, max_configs_per_temperature=1)"
   ]
  },
  {
   "cell_type": "code",
   "execution_count": 10,
   "metadata": {},
   "outputs": [
    {
     "data": {
      "text/plain": [
       "(2, 128, 128, 1)"
      ]
     },
     "execution_count": 10,
     "metadata": {},
     "output_type": "execute_result"
    }
   ],
   "source": [
    "X.shape"
   ]
  },
  {
   "cell_type": "code",
   "execution_count": null,
   "metadata": {},
   "outputs": [],
   "source": []
  }
 ],
 "metadata": {
  "kernelspec": {
   "display_name": "Python 3",
   "language": "python",
   "name": "python3"
  },
  "language_info": {
   "codemirror_mode": {
    "name": "ipython",
    "version": 3
   },
   "file_extension": ".py",
   "mimetype": "text/x-python",
   "name": "python",
   "nbconvert_exporter": "python",
   "pygments_lexer": "ipython3",
   "version": "3.8.5"
  }
 },
 "nbformat": 4,
 "nbformat_minor": 4
}
