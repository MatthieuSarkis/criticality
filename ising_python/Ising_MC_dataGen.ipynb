{
 "cells": [
  {
   "cell_type": "markdown",
   "metadata": {},
   "source": [
    "# Imports"
   ]
  },
  {
   "cell_type": "code",
   "execution_count": 1,
   "metadata": {},
   "outputs": [],
   "source": [
    "import numpy as np\n",
    "import matplotlib.pyplot as plt\n",
    "import seaborn as sns\n",
    "from time import process_time "
   ]
  },
  {
   "cell_type": "markdown",
   "metadata": {},
   "source": [
    "# Plotting functions"
   ]
  },
  {
   "cell_type": "code",
   "execution_count": 139,
   "metadata": {},
   "outputs": [],
   "source": [
    "def plot_lattice(lattice, E):\n",
    "    plt.figure(figsize=(15,7))\n",
    "    plt.subplot(1,2,1)\n",
    "    sns.heatmap(lattice, linewidths=0.0, cmap='Blues', cbar=False, xticklabels='', yticklabels='')\n",
    "    plt.subplot(1,2,2)\n",
    "    plt.plot(E)\n",
    "    plt.ylabel('Energy')"
   ]
  },
  {
   "cell_type": "markdown",
   "metadata": {},
   "source": [
    "# Physical quantities"
   ]
  },
  {
   "cell_type": "code",
   "execution_count": 140,
   "metadata": {},
   "outputs": [],
   "source": [
    "# This is the critical inverse temperature, log(1 + sqrt(2)) / 2\n",
    "beta_critical = np.log(1 + np.sqrt(2)) / 2\n",
    "\n",
    "# Large temperature\n",
    "beta_small = 0.05\n",
    "\n",
    "# Small temperature\n",
    "beta_large = 15.0"
   ]
  },
  {
   "cell_type": "markdown",
   "metadata": {},
   "source": [
    "# Metropolis and Cluster algorithms"
   ]
  },
  {
   "cell_type": "code",
   "execution_count": 141,
   "metadata": {},
   "outputs": [],
   "source": [
    "def spin_lattice(L=100):\n",
    "    \"\"\"\n",
    "        Define a grid of size L*L with random +1 and -1 spins\n",
    "    \"\"\"\n",
    "    return 2 * np.random.choice(2, size=(L,L)) - 1"
   ]
  },
  {
   "cell_type": "code",
   "execution_count": 142,
   "metadata": {},
   "outputs": [],
   "source": [
    "def energy(lattice):\n",
    "    \"\"\"\n",
    "        We consider periodic boundary conditions.\n",
    "        We set J=1.\n",
    "        We sum over half of the neighbours not to double count edges.\n",
    "    \"\"\"\n",
    "    L = lattice.shape[0]\n",
    "    E = 0\n",
    "    for i in range(L):\n",
    "        for j in range(L):\n",
    "            E = E - lattice[i][j] * (lattice[(i+1)%L][j] + lattice[i][(j+1)%L])\n",
    "    return E"
   ]
  },
  {
   "cell_type": "markdown",
   "metadata": {},
   "source": [
    "## Local Monte Carlo algorithm (metropolis)"
   ]
  },
  {
   "cell_type": "code",
   "execution_count": 143,
   "metadata": {},
   "outputs": [],
   "source": [
    "def metropolis_one_step(lattice, e, beta=0.5):\n",
    "    \"\"\"\n",
    "        This function updates a spin at random using energy based update rule.\n",
    "        beta: inverse temperature\n",
    "        e is the energy of the system. It is being updated after the flip.\n",
    "    \"\"\"\n",
    "    L = lattice.shape[0]\n",
    "    \n",
    "    # We want to keep track of the energy to monitor whether\n",
    "    # the system has reached stationarity.\n",
    "    E = e\n",
    "    \n",
    "    # We choose the spin to be updated uniformly at random over the lattice.\n",
    "    i, j = np.random.randint(L), np.random.randint(L)\n",
    "    \n",
    "    # We compute the energy variation dE\n",
    "    tot = 0\n",
    "    for k in range(i-1, i+2):\n",
    "        for l in range(j-1, j+2):\n",
    "            if k == i and l == j:\n",
    "                continue\n",
    "            tot += lattice[k % L][l % L]  # periodic boundary conditions\n",
    "    dE = 2 * lattice[i][j] * tot\n",
    "    \n",
    "    # updating the spin (i,j)\n",
    "    if dE <= 0 or np.exp(-beta * dE) > np.random.rand():\n",
    "        lattice[i, j] *= -1\n",
    "        E = E + dE\n",
    "        \n",
    "    return lattice, E"
   ]
  },
  {
   "cell_type": "code",
   "execution_count": 144,
   "metadata": {},
   "outputs": [],
   "source": [
    "def metropolis_algorithm(lattice, beta=0.5, n_steps=100):\n",
    "    \"\"\"\n",
    "        This functions flips n_steps spin in a row using the function update_step\n",
    "        and returns the time evolution of the energy of the system,\n",
    "        and the last state of the system.\n",
    "    \"\"\"\n",
    "    l = lattice.copy()\n",
    "    e = energy(l)\n",
    "    E = [e]\n",
    "    for _ in range(n_steps):\n",
    "        l, e = metropolis_one_step(l, e, beta=beta)\n",
    "        E.append(e)\n",
    "    return l, E"
   ]
  },
  {
   "cell_type": "markdown",
   "metadata": {},
   "source": [
    "## Cluster Monte Carlo algorithm"
   ]
  },
  {
   "cell_type": "code",
   "execution_count": 145,
   "metadata": {},
   "outputs": [],
   "source": [
    "def cluster_one_step(lattice, beta=0.5):\n",
    "    percolation_proba  = 1.0 - np.exp(-2.0 * beta)\n",
    "    L = lattice.shape[0]\n",
    "    \n",
    "    # We select a spin uniformly at random to start creating a cluster\n",
    "    i, j = np.random.randint(L), np.random.randint(L)\n",
    "    \n",
    "    # We add the spin to the cluster and create another list to remember where \n",
    "    # it remains to expand the cluster\n",
    "    cluster = [[i, j]]\n",
    "    stack = [[i, j]]\n",
    "    \n",
    "    # As long as one can try to expand the cluster, one continues:\n",
    "    while stack != []:\n",
    "        k, l = stack[np.random.randint(len(stack))]\n",
    "        neighbours = [[(k+1)%L , l], [(k-1)%L, l], [k, (l+1)%L], [k, (l-1)%L]]\n",
    "        \n",
    "        for [m,n] in neighbours:\n",
    "            if lattice[m,n] == lattice[k,l] and [m,n] not in cluster and np.random.uniform(0.0, 1.0) < percolation_proba:\n",
    "                cluster.append([m,n])\n",
    "                stack.append([m,n])\n",
    "        stack.remove([k,l])\n",
    "    for [k,l] in cluster:\n",
    "        lattice[k,l] *= -1\n",
    "    return lattice"
   ]
  },
  {
   "cell_type": "code",
   "execution_count": 146,
   "metadata": {},
   "outputs": [],
   "source": [
    "def cluster_algorithm(lattice, beta=0.5, n_steps=100):\n",
    "    \"\"\"\n",
    "    Here we brute force compute the energy at each step, there is probably a smarter \n",
    "    way to keep track of the energy at each step of the cluster algorithm.\n",
    "    \"\"\"\n",
    "    l = lattice.copy()\n",
    "    E = [energy(l)]\n",
    "    for _ in range(n_steps):\n",
    "        l = cluster_one_step(l, beta=beta)\n",
    "        E.append(energy(l))\n",
    "    return l, E"
   ]
  },
  {
   "cell_type": "markdown",
   "metadata": {},
   "source": [
    "# Testing the algorithms"
   ]
  },
  {
   "cell_type": "code",
   "execution_count": 112,
   "metadata": {},
   "outputs": [],
   "source": [
    "lattice = spin_lattice(100)"
   ]
  },
  {
   "cell_type": "code",
   "execution_count": 125,
   "metadata": {},
   "outputs": [
    {
     "name": "stdout",
     "output_type": "stream",
     "text": [
      "7.17 seconds\n"
     ]
    }
   ],
   "source": [
    "t1 = process_time()\n",
    "thermalized_lattice_MC, E_MC = metropolis_algorithm(lattice, n_steps=400000, beta=beta_critical)\n",
    "t2 = process_time()\n",
    "print(\"%.2f seconds\" % (t2-t1))"
   ]
  },
  {
   "cell_type": "code",
   "execution_count": 136,
   "metadata": {},
   "outputs": [
    {
     "name": "stdout",
     "output_type": "stream",
     "text": [
      "9.39 seconds\n"
     ]
    }
   ],
   "source": [
    "t1 = process_time()\n",
    "thermalized_lattice_cluster, E_cluster = cluster_algorithm(lattice, n_steps=550, beta=beta_critical)\n",
    "t2 = process_time()\n",
    "print(\"%.2f seconds\" % (t2-t1))"
   ]
  },
  {
   "cell_type": "code",
   "execution_count": 137,
   "metadata": {},
   "outputs": [
    {
     "data": {
      "image/png": "[encoded data removed]",
      "text/plain": [
       "<Figure size 1080x504 with 2 Axes>"
      ]
     },
     "metadata": {
      "needs_background": "light"
     },
     "output_type": "display_data"
    },
    {
     "data": {
      "image/png": "[encoded data removed]",
      "text/plain": [
       "<Figure size 1080x504 with 2 Axes>"
      ]
     },
     "metadata": {
      "needs_background": "light"
     },
     "output_type": "display_data"
    }
   ],
   "source": [
    "plot_lattice(thermalized_lattice_MC, E_MC)\n",
    "plot_lattice(thermalized_lattice_cluster, E_cluster)"
   ]
  },
  {
   "cell_type": "markdown",
   "metadata": {},
   "source": [
    "# Generating the data for the neural network"
   ]
  },
  {
   "cell_type": "code",
   "execution_count": 28,
   "metadata": {},
   "outputs": [
    {
     "name": "stdout",
     "output_type": "stream",
     "text": [
      "It took 3328.26 seconds.\n"
     ]
    }
   ],
   "source": [
    "t1 = process_time()\n",
    "\n",
    "N = 1000 # N configurations per temperature\n",
    "L = 30 # size of the lattice\n",
    "\n",
    "# number of steps for the cluster algorithm\n",
    "n_steps_lowTemp = 15\n",
    "n_steps_critTemp = 120\n",
    "n_steps_largeTemp = 10\n",
    "\n",
    "X = []  # lattice configurations\n",
    "y = []   # class (low temp: 0, crit  temp: 1, large temp: 2)\n",
    "yE = []   # energy of the configuration\n",
    "\n",
    "for _ in range(N):\n",
    "    # small temperature\n",
    "    # the class will be denoted by 0\n",
    "    lattice = spin_lattice(L)\n",
    "    lattice_thermalized, E = cluster_algorithm(lattice, beta=beta_large, n_steps=n_steps_lowTemp)\n",
    "    X.append(lattice_thermalized)\n",
    "    y.append(0)\n",
    "    yE.append(E[-1])\n",
    "    \n",
    "    # critical temperature\n",
    "    # the class will be denoted by 1\n",
    "    lattice = spin_lattice(L)\n",
    "    lattice_thermalized, E = cluster_algorithm(lattice, beta=beta_critical, n_steps=n_steps_critTemp)\n",
    "    X.append(lattice_thermalized)\n",
    "    y.append(1)\n",
    "    yE.append(E[-1])\n",
    "    \n",
    "    # large temperature\n",
    "    # the class will be denoted by 2\n",
    "    lattice = spin_lattice(L)\n",
    "    lattice_thermalized, E = cluster_algorithm(lattice, beta=beta_small, n_steps=n_steps_largeTemp)\n",
    "    X.append(lattice_thermalized)\n",
    "    y.append(2)\n",
    "    yE.append(E[-1])\n",
    "    \n",
    "X = np.array(X)\n",
    "y = np.array(y)\n",
    "yE = np.array(yE)\n",
    "\n",
    "t2 = process_time()\n",
    "\n",
    "print(\"It took %.2f seconds.\" % (t2-t1))\n",
    "\n",
    "np.save(\"data_X\", X)\n",
    "np.save(\"data_y\", y)\n",
    "np.save(\"data_yE\", yE)"
   ]
  },
  {
   "cell_type": "code",
   "execution_count": 21,
   "metadata": {},
   "outputs": [],
   "source": [
    "X = np.load(\"data_X.npy\")\n",
    "y = np.load(\"data_y.npy\")\n",
    "yE = np.load(\"data_yE.npy\")"
   ]
  },
  {
   "cell_type": "code",
   "execution_count": 2,
   "metadata": {},
   "outputs": [],
   "source": [
    "a = np.loadtxt('L_100.csv', delimiter=',', usecols=range(100**2))"
   ]
  },
  {
   "cell_type": "code",
   "execution_count": 3,
   "metadata": {},
   "outputs": [
    {
     "data": {
      "text/plain": [
       "(7000, 10000)"
      ]
     },
     "execution_count": 3,
     "metadata": {},
     "output_type": "execute_result"
    }
   ],
   "source": [
    "a.shape"
   ]
  }
 ],
 "metadata": {
  "kernelspec": {
   "display_name": "Python 3",
   "language": "python",
   "name": "python3"
  },
  "language_info": {
   "codemirror_mode": {
    "name": "ipython",
    "version": 3
   },
   "file_extension": ".py",
   "mimetype": "text/x-python",
   "name": "python",
   "nbconvert_exporter": "python",
   "pygments_lexer": "ipython3",
   "version": "3.8.5"
  }
 },
 "nbformat": 4,
 "nbformat_minor": 4
}
