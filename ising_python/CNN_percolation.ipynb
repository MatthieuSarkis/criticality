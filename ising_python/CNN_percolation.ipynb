{
 "cells": [
  {
   "cell_type": "markdown",
   "metadata": {
    "id": "0j65zA8kG7tB"
   },
   "source": [
    "# Imports"
   ]
  },
  {
   "cell_type": "code",
   "execution_count": 17,
   "metadata": {
    "executionInfo": {
     "elapsed": 2091,
     "status": "ok",
     "timestamp": 1609154969126,
     "user": {
      "displayName": "Matt",
      "photoUrl": "https://lh3.googleusercontent.com/a-/AOh14GgIzeuHHD36c1-IgguXB5KjqEoCp7UsZBNQGGvx5Q=s64",
      "userId": "13529861564108685423"
     },
     "user_tz": -540
    },
    "id": "wGZq_nDiG7tJ"
   },
   "outputs": [],
   "source": [
    "import tensorflow as tf\n",
    "import numpy as np\n",
    "import matplotlib.pyplot as plt\n",
    "import seaborn as sns\n",
    "from tensorflow.keras.layers import Input, Conv2D, Dense, Flatten, Dropout, GlobalMaxPooling2D, MaxPooling2D, BatchNormalization\n",
    "from tensorflow.keras.models import Model\n",
    "from sklearn.metrics import confusion_matrix\n",
    "from percolation import read_percolation_data\n",
    "from sklearn.model_selection import train_test_split\n",
    "import sys"
   ]
  },
  {
   "cell_type": "markdown",
   "metadata": {
    "id": "0xGNugguG7tK"
   },
   "source": [
    "# Loading and preprocessing the data"
   ]
  },
  {
   "cell_type": "code",
   "execution_count": 18,
   "metadata": {},
   "outputs": [],
   "source": [
    "L = 256\n",
    "pc = 0.59274\n",
    "#p_arr = np.round(np.arange(0, 1.0, 0.01), 4)\n",
    "p_arr = np.round(np.array([0.57, 0.58, 0.61, 0.62]), 4)\n",
    "p_arr = np.append(p_arr, pc)"
   ]
  },
  {
   "cell_type": "code",
   "execution_count": 19,
   "metadata": {},
   "outputs": [],
   "source": [
    "X, y = read_percolation_data(L, p_arr, pc, max_configs_per_p=2000)"
   ]
  },
  {
   "cell_type": "code",
   "execution_count": 20,
   "metadata": {},
   "outputs": [
    {
     "name": "stdout",
     "output_type": "stream",
     "text": [
      "(10000, 256, 256, 1) (10000,)\n"
     ]
    }
   ],
   "source": [
    "print(X.shape, y.shape)"
   ]
  },
  {
   "cell_type": "code",
   "execution_count": 21,
   "metadata": {},
   "outputs": [],
   "source": [
    "N = X.shape[0]\n",
    "L = X.shape[1] "
   ]
  },
  {
   "cell_type": "code",
   "execution_count": 22,
   "metadata": {},
   "outputs": [],
   "source": [
    "X_train, X_test, y_train, y_test = train_test_split(X, y, test_size=0.20, random_state=42, stratify=y)"
   ]
  },
  {
   "cell_type": "code",
   "execution_count": 23,
   "metadata": {},
   "outputs": [
    {
     "name": "stdout",
     "output_type": "stream",
     "text": [
      "X.shape: (10000, 256, 256, 1) , y.shape: (10000,)\n",
      "X_train.shape: (8000, 256, 256, 1) , y_train.shape: (8000,)\n",
      "X_test.shape: (2000, 256, 256, 1) , y_test.shape: (2000,)\n"
     ]
    }
   ],
   "source": [
    "print('X.shape:', X.shape, ', y.shape:', y.shape)\n",
    "print('X_train.shape:', X_train.shape, ', y_train.shape:', y_train.shape)\n",
    "print('X_test.shape:', X_test.shape, ', y_test.shape:', y_test.shape)"
   ]
  },
  {
   "cell_type": "code",
   "execution_count": 24,
   "metadata": {
    "colab": {
     "base_uri": "https://localhost:8080/"
    },
    "executionInfo": {
     "elapsed": 754,
     "status": "ok",
     "timestamp": 1609154986398,
     "user": {
      "displayName": "Matt",
      "photoUrl": "https://lh3.googleusercontent.com/a-/AOh14GgIzeuHHD36c1-IgguXB5KjqEoCp7UsZBNQGGvx5Q=s64",
      "userId": "13529861564108685423"
     },
     "user_tz": -540
    },
    "id": "W5bbJ6lDG7tL",
    "outputId": "d1ef6d1b-782c-43fe-ce3e-53986a3301d0"
   },
   "outputs": [
    {
     "name": "stdout",
     "output_type": "stream",
     "text": [
      "number of classes: 5\n"
     ]
    }
   ],
   "source": [
    "# number of classes\n",
    "K = len(set(y_train))\n",
    "print(\"number of classes:\", K)"
   ]
  },
  {
   "cell_type": "markdown",
   "metadata": {
    "id": "l5soKXf2G7tL"
   },
   "source": [
    "# Definition of the network and training for classification"
   ]
  },
  {
   "cell_type": "code",
   "execution_count": 25,
   "metadata": {},
   "outputs": [],
   "source": [
    "def CNN_net(L, K):\n",
    "    # input layer\n",
    "    i = Input(shape=(L,L,1))\n",
    "\n",
    "    # Convolution block\n",
    "    x = Conv2D(32, (3,3), activation='relu', padding='same')(i)\n",
    "    x = BatchNormalization()(x)\n",
    "    x = Conv2D(32, (3,3), activation='relu', padding='same')(x)\n",
    "    x = BatchNormalization()(x)\n",
    "    x = MaxPooling2D((2,2))(x)\n",
    "    \n",
    "    x = Conv2D(64, (3,3), activation='relu', padding='same')(x)\n",
    "    x = BatchNormalization()(x)\n",
    "    x = Conv2D(64, (3,3), activation='relu', padding='same')(x)\n",
    "    x = BatchNormalization()(x)\n",
    "    x = MaxPooling2D((2,2))(x)\n",
    "    \n",
    "    x = Conv2D(128, (3,3), activation='relu', padding='same')(x)\n",
    "    x = BatchNormalization()(x)\n",
    "    x = Conv2D(128, (3,3), activation='relu', padding='same')(x)\n",
    "    x = BatchNormalization()(x)\n",
    "    x = MaxPooling2D((2,2))(x)\n",
    "\n",
    "    # Classification block\n",
    "    x = Flatten()(x)\n",
    "    x = Dropout(0.2)(x)\n",
    "    x = Dense(512, activation='relu')(x)\n",
    "    x = Dropout(0.2)(x)\n",
    "    x = Dense(1024, activation='relu')(x)\n",
    "    x = Dropout(0.2)(x)\n",
    "    x = Dense(K, activation='softmax')(x)\n",
    "\n",
    "    model = Model(i, x)\n",
    "    return model"
   ]
  },
  {
   "cell_type": "code",
   "execution_count": 26,
   "metadata": {
    "executionInfo": {
     "elapsed": 6406,
     "status": "ok",
     "timestamp": 1609154993313,
     "user": {
      "displayName": "Matt",
      "photoUrl": "https://lh3.googleusercontent.com/a-/AOh14GgIzeuHHD36c1-IgguXB5KjqEoCp7UsZBNQGGvx5Q=s64",
      "userId": "13529861564108685423"
     },
     "user_tz": -540
    },
    "id": "EXbhuzgwG7tM"
   },
   "outputs": [],
   "source": [
    "model_phase = CNN_net(L, K)"
   ]
  },
  {
   "cell_type": "code",
   "execution_count": 27,
   "metadata": {
    "executionInfo": {
     "elapsed": 696,
     "status": "ok",
     "timestamp": 1609154998542,
     "user": {
      "displayName": "Matt",
      "photoUrl": "https://lh3.googleusercontent.com/a-/AOh14GgIzeuHHD36c1-IgguXB5KjqEoCp7UsZBNQGGvx5Q=s64",
      "userId": "13529861564108685423"
     },
     "user_tz": -540
    },
    "id": "ceWWwqdZG7tM"
   },
   "outputs": [],
   "source": [
    "# Compiling the model\n",
    "\n",
    "# Inverse time decaying learning rate\n",
    "# initial_learning_rate / (1 + decay_rate * floor(step / decay_step))\n",
    "initial_learning_rate = 0.01\n",
    "decay_steps = 1.0\n",
    "decay_rate = 0.5\n",
    "learning_rate_fn = tf.keras.optimizers.schedules.InverseTimeDecay(initial_learning_rate, decay_steps, decay_rate)\n",
    "\n",
    "opt = tf.keras.optimizers.Adam(learning_rate=learning_rate_fn)\n",
    "#opt = tf.keras.optimizers.Adam(learning_rate=0.01)\n",
    "model_phase.compile(optimizer=opt, loss='sparse_categorical_crossentropy', metrics=['accuracy'])"
   ]
  },
  {
   "cell_type": "code",
   "execution_count": 28,
   "metadata": {
    "executionInfo": {
     "elapsed": 1197,
     "status": "ok",
     "timestamp": 1609155000804,
     "user": {
      "displayName": "Matt",
      "photoUrl": "https://lh3.googleusercontent.com/a-/AOh14GgIzeuHHD36c1-IgguXB5KjqEoCp7UsZBNQGGvx5Q=s64",
      "userId": "13529861564108685423"
     },
     "user_tz": -540
    },
    "id": "QMmceakfG7tM"
   },
   "outputs": [],
   "source": [
    "# data augmentation, we allow for rotations of the image.\n",
    "# At critical temperature, one could also allow for scalings?\n",
    "#batch_size = 20\n",
    "#data_generator = tf.keras.preprocessing.image.ImageDataGenerator(rotation_range=90, horizontal_flip=True, vertical_flip=True)\n",
    "#train_generator = data_generator.flow(X_train, y_train, batch_size)\n",
    "#steps_per_epochs = X_train.shape[0] // batch_size"
   ]
  },
  {
   "cell_type": "code",
   "execution_count": 29,
   "metadata": {},
   "outputs": [],
   "source": [
    "# Callbacks\n",
    "early_stop = tf.keras.callbacks.EarlyStopping(monitor='val_loss', patience=7, mode='min')\n",
    "\n",
    "#initial_learning_rate = 0.01\n",
    "#reduce_lr = tf.keras.callbacks.ReduceLROnPlateau(monitor='val_loss', factor=0.1, patience=4, min_lr=0.001)"
   ]
  },
  {
   "cell_type": "code",
   "execution_count": 30,
   "metadata": {},
   "outputs": [],
   "source": [
    "#opt = tf.keras.optimizers.Adam(learning_rate=initial_learning_rate)\n",
    "#model_phase.compile(optimizer=opt, loss='sparse_categorical_crossentropy', metrics=['accuracy'])"
   ]
  },
  {
   "cell_type": "code",
   "execution_count": 31,
   "metadata": {},
   "outputs": [
    {
     "name": "stdout",
     "output_type": "stream",
     "text": [
      "Epoch 1/20\n",
      "250/250 [==============================] - 2030s 8s/step - loss: 61.6282 - accuracy: 0.5969 - val_loss: 16596.0840 - val_accuracy: 0.2000\n",
      "Epoch 2/20\n",
      "250/250 [==============================] - 1710s 7s/step - loss: 1.0160 - accuracy: 0.6587 - val_loss: 8805.0439 - val_accuracy: 0.2000\n",
      "Epoch 3/20\n",
      "250/250 [==============================] - 1390s 6s/step - loss: 0.9149 - accuracy: 0.6998 - val_loss: 44.6799 - val_accuracy: 0.2000\n",
      "Epoch 4/20\n",
      "250/250 [==============================] - 1334s 5s/step - loss: 0.8363 - accuracy: 0.7200 - val_loss: 0.8287 - val_accuracy: 0.8005\n",
      "Epoch 5/20\n",
      "250/250 [==============================] - 1338s 5s/step - loss: 0.8317 - accuracy: 0.7309 - val_loss: 0.5182 - val_accuracy: 0.8755\n",
      "Epoch 6/20\n",
      "250/250 [==============================] - 1332s 5s/step - loss: 0.7834 - accuracy: 0.7464 - val_loss: 0.4511 - val_accuracy: 0.8920\n",
      "Epoch 7/20\n",
      "250/250 [==============================] - 1334s 5s/step - loss: 0.7724 - accuracy: 0.7496 - val_loss: 0.4691 - val_accuracy: 0.8995\n",
      "Epoch 8/20\n",
      "250/250 [==============================] - 1334s 5s/step - loss: 0.7379 - accuracy: 0.7634 - val_loss: 0.3992 - val_accuracy: 0.9065\n",
      "Epoch 9/20\n",
      "250/250 [==============================] - 1331s 5s/step - loss: 0.7200 - accuracy: 0.7779 - val_loss: 0.4175 - val_accuracy: 0.9100\n",
      "Epoch 10/20\n",
      "250/250 [==============================] - 1339s 5s/step - loss: 0.7170 - accuracy: 0.7807 - val_loss: 0.3858 - val_accuracy: 0.9155\n",
      "Epoch 11/20\n",
      "250/250 [==============================] - 1337s 5s/step - loss: 0.6814 - accuracy: 0.7865 - val_loss: 0.3752 - val_accuracy: 0.9245\n",
      "Epoch 12/20\n",
      "250/250 [==============================] - 1338s 5s/step - loss: 0.6911 - accuracy: 0.7841 - val_loss: 0.3790 - val_accuracy: 0.9170\n",
      "Epoch 13/20\n",
      "250/250 [==============================] - 1336s 5s/step - loss: 0.7031 - accuracy: 0.7865 - val_loss: 0.3568 - val_accuracy: 0.9150\n",
      "Epoch 14/20\n",
      "250/250 [==============================] - 1330s 5s/step - loss: 0.6828 - accuracy: 0.7968 - val_loss: 0.3265 - val_accuracy: 0.9315\n",
      "Epoch 15/20\n",
      "250/250 [==============================] - 1335s 5s/step - loss: 0.6459 - accuracy: 0.8074 - val_loss: 0.3107 - val_accuracy: 0.9320\n",
      "Epoch 16/20\n",
      "250/250 [==============================] - 1330s 5s/step - loss: 0.7116 - accuracy: 0.7822 - val_loss: 0.3154 - val_accuracy: 0.9310\n",
      "Epoch 17/20\n",
      "250/250 [==============================] - 1329s 5s/step - loss: 0.6080 - accuracy: 0.8105 - val_loss: 0.3244 - val_accuracy: 0.9250\n",
      "Epoch 18/20\n",
      "250/250 [==============================] - 1335s 5s/step - loss: 0.6559 - accuracy: 0.7972 - val_loss: 0.2988 - val_accuracy: 0.9320\n",
      "Epoch 19/20\n",
      "250/250 [==============================] - 1332s 5s/step - loss: 0.5985 - accuracy: 0.8219 - val_loss: 0.2684 - val_accuracy: 0.9365\n",
      "Epoch 20/20\n",
      "250/250 [==============================] - 1329s 5s/step - loss: 0.6033 - accuracy: 0.8135 - val_loss: 0.3052 - val_accuracy: 0.9325\n"
     ]
    }
   ],
   "source": [
    "# training the model\n",
    "#r_phase = model_phase.fit(train_generator, validation_data=(X_test, y_test), steps_per_epoch=steps_per_epochs, epochs=50)\n",
    "r_phase = model_phase.fit(X_train, y_train, validation_data=(X_test, y_test), epochs=20, callbacks=[early_stop])"
   ]
  },
  {
   "cell_type": "code",
   "execution_count": 32,
   "metadata": {},
   "outputs": [],
   "source": [
    "# We save the model\n",
    "model_phase.save('../../criticality_trained_models/cnn_percolation([0.57, 0.58, 0.61, 0.62, pc], L=256).h5')"
   ]
  },
  {
   "cell_type": "code",
   "execution_count": 33,
   "metadata": {},
   "outputs": [],
   "source": [
    "# to load it:\n",
    "#model_phase = tf.keras.models.load_model('~/ml/research/criticality_trained_models/cnn_ising_phase.h5')"
   ]
  },
  {
   "cell_type": "code",
   "execution_count": 34,
   "metadata": {
    "colab": {
     "base_uri": "https://localhost:8080/",
     "height": 282
    },
    "executionInfo": {
     "elapsed": 1268392,
     "status": "ok",
     "timestamp": 1609156274480,
     "user": {
      "displayName": "Matt",
      "photoUrl": "https://lh3.googleusercontent.com/a-/AOh14GgIzeuHHD36c1-IgguXB5KjqEoCp7UsZBNQGGvx5Q=s64",
      "userId": "13529861564108685423"
     },
     "user_tz": -540
    },
    "id": "JoQMrkJYG7tN",
    "outputId": "87b8bc10-595d-4619-ace0-8219c6667e43"
   },
   "outputs": [
    {
     "data": {
      "image/png": "[encoded data removed]",
      "text/plain": [
       "<Figure size 1008x432 with 2 Axes>"
      ]
     },
     "metadata": {
      "needs_background": "light"
     },
     "output_type": "display_data"
    }
   ],
   "source": [
    "plt.figure(figsize=(14,6))\n",
    "plt.subplot(1,2,1)\n",
    "plt.plot(r_phase.history['loss'], label='loss')\n",
    "plt.plot(r_phase.history['val_loss'], label='val_loss')\n",
    "plt.legend()\n",
    "plt.subplot(1,2,2)\n",
    "plt.plot(r_phase.history['accuracy'], label='accuracy')\n",
    "plt.plot(r_phase.history['val_accuracy'], label='val_accuracy')\n",
    "plt.legend()\n",
    "plt.show()"
   ]
  },
  {
   "cell_type": "code",
   "execution_count": 35,
   "metadata": {
    "id": "e_Ut01OXHQwj"
   },
   "outputs": [],
   "source": [
    "# Let us plot the confusion matrix\n",
    "p_test = model_phase.predict(X_test).argmax(axis=1)\n",
    "conf_matrix = confusion_matrix(y_test, p_test)"
   ]
  },
  {
   "cell_type": "code",
   "execution_count": 36,
   "metadata": {},
   "outputs": [
    {
     "data": {
      "image/png": "[encoded data removed]",
      "text/plain": [
       "<Figure size 504x504 with 2 Axes>"
      ]
     },
     "metadata": {
      "needs_background": "light"
     },
     "output_type": "display_data"
    }
   ],
   "source": [
    "plt.figure(figsize=(7,7))\n",
    "sns.heatmap(conf_matrix, cmap='Blues', annot=True)\n",
    "plt.xlabel('predicted')\n",
    "plt.ylabel('true label')\n",
    "plt.savefig('./saved_images/cnn_percolation([0.57, 0.58, 0.61, 0.62, pc], L=256).jpg')\n",
    "plt.show()"
   ]
  },
  {
   "cell_type": "code",
   "execution_count": null,
   "metadata": {},
   "outputs": [],
   "source": []
  }
 ],
 "metadata": {
  "kernelspec": {
   "display_name": "Python 3",
   "language": "python",
   "name": "python3"
  },
  "language_info": {
   "codemirror_mode": {
    "name": "ipython",
    "version": 3
   },
   "file_extension": ".py",
   "mimetype": "text/x-python",
   "name": "python",
   "nbconvert_exporter": "python",
   "pygments_lexer": "ipython3",
   "version": "3.8.5"
  }
 },
 "nbformat": 4,
 "nbformat_minor": 4
}
