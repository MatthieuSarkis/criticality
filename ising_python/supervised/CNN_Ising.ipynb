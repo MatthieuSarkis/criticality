{
 "cells": [
  {
   "cell_type": "markdown",
   "metadata": {
    "id": "0j65zA8kG7tB"
   },
   "source": [
    "# Imports"
   ]
  },
  {
   "cell_type": "code",
   "execution_count": 1,
   "metadata": {
    "executionInfo": {
     "elapsed": 2091,
     "status": "ok",
     "timestamp": 1609154969126,
     "user": {
      "displayName": "Matt",
      "photoUrl": "https://lh3.googleusercontent.com/a-/AOh14GgIzeuHHD36c1-IgguXB5KjqEoCp7UsZBNQGGvx5Q=s64",
      "userId": "13529861564108685423"
     },
     "user_tz": -540
    },
    "id": "wGZq_nDiG7tJ"
   },
   "outputs": [],
   "source": [
    "import tensorflow as tf\n",
    "import numpy as np\n",
    "import matplotlib.pyplot as plt\n",
    "import seaborn as sns\n",
    "from tensorflow.keras.layers import Input, Conv2D, Dense, Flatten, Dropout, GlobalMaxPooling2D, MaxPooling2D, BatchNormalization\n",
    "from tensorflow.keras.models import Model\n",
    "from sklearn.metrics import confusion_matrix\n",
    "from read_spin_configs import read_temp_dependent_files_then_merge\n",
    "from percolation import read_percolation_data\n",
    "from sklearn.model_selection import train_test_split\n",
    "import sys"
   ]
  },
  {
   "cell_type": "markdown",
   "metadata": {
    "id": "0xGNugguG7tK"
   },
   "source": [
    "# Loading and preprocessing the data"
   ]
  },
  {
   "cell_type": "code",
   "execution_count": 2,
   "metadata": {},
   "outputs": [],
   "source": [
    "idir = r'/Users/matthieu.sarkis/git_repos/criticality_data/config-files/L=128'\n",
    "L = 128\n",
    "Tc = 2.2692\n",
    "#T_arr = np.round(np.arange(1.8, 3.0, 0.01),4)\n",
    "T_arr = np.round(np.array([2.25, 2.26, 2.28, 2.29]), 4)\n",
    "T_arr = np.append(T_arr, Tc)"
   ]
  },
  {
   "cell_type": "code",
   "execution_count": 3,
   "metadata": {},
   "outputs": [],
   "source": [
    "X, y = read_temp_dependent_files_then_merge(idir, L, T_arr, Tc, max_configs_per_temperature=1000)"
   ]
  },
  {
   "cell_type": "code",
   "execution_count": 4,
   "metadata": {},
   "outputs": [
    {
     "name": "stdout",
     "output_type": "stream",
     "text": [
      "(0, 128, 128, 1) (0,)\n"
     ]
    }
   ],
   "source": [
    "print(X.shape, y.shape)"
   ]
  },
  {
   "cell_type": "code",
   "execution_count": 27,
   "metadata": {},
   "outputs": [],
   "source": [
    "N = X.shape[0]\n",
    "L = X.shape[1] "
   ]
  },
  {
   "cell_type": "code",
   "execution_count": 28,
   "metadata": {},
   "outputs": [],
   "source": [
    "X_train, X_test, y_train, y_test = train_test_split(X, y, test_size=0.20, random_state=42, stratify=y)"
   ]
  },
  {
   "cell_type": "code",
   "execution_count": 29,
   "metadata": {},
   "outputs": [
    {
     "name": "stdout",
     "output_type": "stream",
     "text": [
      "X.shape: (5000, 128, 128, 1) , y.shape: (5000,)\n",
      "X_train.shape: (4000, 128, 128, 1) , y_train.shape: (4000,)\n",
      "X_test.shape: (1000, 128, 128, 1) , y_test.shape: (1000,)\n"
     ]
    }
   ],
   "source": [
    "print('X.shape:', X.shape, ', y.shape:', y.shape)\n",
    "print('X_train.shape:', X_train.shape, ', y_train.shape:', y_train.shape)\n",
    "print('X_test.shape:', X_test.shape, ', y_test.shape:', y_test.shape)"
   ]
  },
  {
   "cell_type": "code",
   "execution_count": 30,
   "metadata": {
    "colab": {
     "base_uri": "https://localhost:8080/"
    },
    "executionInfo": {
     "elapsed": 754,
     "status": "ok",
     "timestamp": 1609154986398,
     "user": {
      "displayName": "Matt",
      "photoUrl": "https://lh3.googleusercontent.com/a-/AOh14GgIzeuHHD36c1-IgguXB5KjqEoCp7UsZBNQGGvx5Q=s64",
      "userId": "13529861564108685423"
     },
     "user_tz": -540
    },
    "id": "W5bbJ6lDG7tL",
    "outputId": "d1ef6d1b-782c-43fe-ce3e-53986a3301d0"
   },
   "outputs": [
    {
     "name": "stdout",
     "output_type": "stream",
     "text": [
      "number of classes: 5\n"
     ]
    }
   ],
   "source": [
    "# number of classes\n",
    "K = len(set(y_train))\n",
    "print(\"number of classes:\", K)"
   ]
  },
  {
   "cell_type": "markdown",
   "metadata": {
    "id": "l5soKXf2G7tL"
   },
   "source": [
    "# Definition of the network and training for classification"
   ]
  },
  {
   "cell_type": "code",
   "execution_count": 31,
   "metadata": {},
   "outputs": [],
   "source": [
    "def CNN_net(L, K):\n",
    "    # input layer\n",
    "    i = Input(shape=(L,L,1))\n",
    "\n",
    "    # Convolution block\n",
    "    x = Conv2D(32, (3,3), activation='relu', padding='same')(i)\n",
    "    x = BatchNormalization()(x)\n",
    "    x = Conv2D(32, (3,3), activation='relu', padding='same')(x)\n",
    "    x = BatchNormalization()(x)\n",
    "    x = MaxPooling2D((2,2))(x)\n",
    "    \n",
    "    x = Conv2D(64, (3,3), activation='relu', padding='same')(x)\n",
    "    x = BatchNormalization()(x)\n",
    "    x = Conv2D(64, (3,3), activation='relu', padding='same')(x)\n",
    "    x = BatchNormalization()(x)\n",
    "    x = MaxPooling2D((2,2))(x)\n",
    "    \n",
    "    x = Conv2D(128, (3,3), activation='relu', padding='same')(x)\n",
    "    x = BatchNormalization()(x)\n",
    "    x = Conv2D(128, (3,3), activation='relu', padding='same')(x)\n",
    "    x = BatchNormalization()(x)\n",
    "    x = MaxPooling2D((2,2))(x)\n",
    "\n",
    "    # Classification block\n",
    "    x = Flatten()(x)\n",
    "    x = Dropout(0.2)(x)\n",
    "    x = Dense(512, activation='relu')(x)\n",
    "    x = Dropout(0.2)(x)\n",
    "    x = Dense(1024, activation='relu')(x)\n",
    "    x = Dropout(0.2)(x)\n",
    "    x = Dense(K, activation='softmax')(x)\n",
    "\n",
    "    model = Model(i, x)\n",
    "    return model"
   ]
  },
  {
   "cell_type": "code",
   "execution_count": 32,
   "metadata": {
    "executionInfo": {
     "elapsed": 6406,
     "status": "ok",
     "timestamp": 1609154993313,
     "user": {
      "displayName": "Matt",
      "photoUrl": "https://lh3.googleusercontent.com/a-/AOh14GgIzeuHHD36c1-IgguXB5KjqEoCp7UsZBNQGGvx5Q=s64",
      "userId": "13529861564108685423"
     },
     "user_tz": -540
    },
    "id": "EXbhuzgwG7tM"
   },
   "outputs": [],
   "source": [
    "model_phase = CNN_net(L, K)"
   ]
  },
  {
   "cell_type": "code",
   "execution_count": 33,
   "metadata": {
    "executionInfo": {
     "elapsed": 696,
     "status": "ok",
     "timestamp": 1609154998542,
     "user": {
      "displayName": "Matt",
      "photoUrl": "https://lh3.googleusercontent.com/a-/AOh14GgIzeuHHD36c1-IgguXB5KjqEoCp7UsZBNQGGvx5Q=s64",
      "userId": "13529861564108685423"
     },
     "user_tz": -540
    },
    "id": "ceWWwqdZG7tM"
   },
   "outputs": [],
   "source": [
    "# Compiling the model\n",
    "\n",
    "# Inverse time decaying learning rate\n",
    "# initial_learning_rate / (1 + decay_rate * floor(step / decay_step))\n",
    "initial_learning_rate = 0.01\n",
    "decay_steps = 1.0\n",
    "decay_rate = 0.5\n",
    "learning_rate_fn = tf.keras.optimizers.schedules.InverseTimeDecay(initial_learning_rate, decay_steps, decay_rate)\n",
    "\n",
    "opt = tf.keras.optimizers.Adam(learning_rate=learning_rate_fn)\n",
    "model_phase.compile(optimizer=opt, loss='sparse_categorical_crossentropy', metrics=['accuracy'])"
   ]
  },
  {
   "cell_type": "code",
   "execution_count": 34,
   "metadata": {
    "executionInfo": {
     "elapsed": 1197,
     "status": "ok",
     "timestamp": 1609155000804,
     "user": {
      "displayName": "Matt",
      "photoUrl": "https://lh3.googleusercontent.com/a-/AOh14GgIzeuHHD36c1-IgguXB5KjqEoCp7UsZBNQGGvx5Q=s64",
      "userId": "13529861564108685423"
     },
     "user_tz": -540
    },
    "id": "QMmceakfG7tM"
   },
   "outputs": [],
   "source": [
    "# data augmentation, we allow for rotations of the image.\n",
    "# At critical temperature, one could also allow for scalings?\n",
    "#batch_size = 20\n",
    "#data_generator = tf.keras.preprocessing.image.ImageDataGenerator(rotation_range=90, horizontal_flip=True, vertical_flip=True)\n",
    "#train_generator = data_generator.flow(X_train, y_train, batch_size)\n",
    "#steps_per_epochs = X_train.shape[0] // batch_size"
   ]
  },
  {
   "cell_type": "code",
   "execution_count": 35,
   "metadata": {},
   "outputs": [],
   "source": [
    "# Callbacks\n",
    "early_stop = tf.keras.callbacks.EarlyStopping(monitor='val_loss', patience=7, mode='min')\n",
    "\n",
    "#initial_learning_rate = 0.01\n",
    "#reduce_lr = tf.keras.callbacks.ReduceLROnPlateau(monitor='val_loss', factor=0.1, patience=4, min_lr=0.001)"
   ]
  },
  {
   "cell_type": "code",
   "execution_count": 36,
   "metadata": {},
   "outputs": [],
   "source": [
    "#opt = tf.keras.optimizers.Adam(learning_rate=initial_learning_rate)\n",
    "#model_phase.compile(optimizer=opt, loss='sparse_categorical_crossentropy', metrics=['accuracy'])"
   ]
  },
  {
   "cell_type": "code",
   "execution_count": 37,
   "metadata": {},
   "outputs": [
    {
     "name": "stdout",
     "output_type": "stream",
     "text": [
      "Epoch 1/15\n",
      "125/125 [==============================] - 236s 2s/step - loss: 36.7785 - accuracy: 0.6342 - val_loss: 21.5794 - val_accuracy: 0.5480\n",
      "Epoch 2/15\n",
      "125/125 [==============================] - 249s 2s/step - loss: 3.5724 - accuracy: 0.7582 - val_loss: 263.6311 - val_accuracy: 0.3090\n",
      "Epoch 3/15\n",
      "125/125 [==============================] - 250s 2s/step - loss: 2.4177 - accuracy: 0.7875 - val_loss: 147.9350 - val_accuracy: 0.4940\n",
      "Epoch 4/15\n",
      "125/125 [==============================] - 256s 2s/step - loss: 1.7896 - accuracy: 0.8062 - val_loss: 46.3852 - val_accuracy: 0.6710\n",
      "Epoch 5/15\n",
      "125/125 [==============================] - 246s 2s/step - loss: 1.4309 - accuracy: 0.8313 - val_loss: 2.0651 - val_accuracy: 0.8180\n",
      "Epoch 6/15\n",
      "125/125 [==============================] - 246s 2s/step - loss: 1.3882 - accuracy: 0.8305 - val_loss: 0.4138 - val_accuracy: 0.9080\n",
      "Epoch 7/15\n",
      "125/125 [==============================] - 256s 2s/step - loss: 1.0763 - accuracy: 0.8425 - val_loss: 0.3617 - val_accuracy: 0.9080\n",
      "Epoch 8/15\n",
      "125/125 [==============================] - 241s 2s/step - loss: 1.0282 - accuracy: 0.8478 - val_loss: 0.3166 - val_accuracy: 0.9190\n",
      "Epoch 9/15\n",
      "125/125 [==============================] - 254s 2s/step - loss: 0.8626 - accuracy: 0.8618 - val_loss: 0.2660 - val_accuracy: 0.9330\n",
      "Epoch 10/15\n",
      "125/125 [==============================] - 267s 2s/step - loss: 0.7781 - accuracy: 0.8660 - val_loss: 0.2421 - val_accuracy: 0.9300\n",
      "Epoch 11/15\n",
      "125/125 [==============================] - 260s 2s/step - loss: 0.7776 - accuracy: 0.8650 - val_loss: 0.2173 - val_accuracy: 0.9340\n",
      "Epoch 12/15\n",
      "125/125 [==============================] - 266s 2s/step - loss: 0.6101 - accuracy: 0.8802 - val_loss: 0.1924 - val_accuracy: 0.9320\n",
      "Epoch 13/15\n",
      "125/125 [==============================] - 264s 2s/step - loss: 0.6162 - accuracy: 0.8765 - val_loss: 0.1959 - val_accuracy: 0.9320\n",
      "Epoch 14/15\n",
      "125/125 [==============================] - 264s 2s/step - loss: 0.5392 - accuracy: 0.8838 - val_loss: 0.1978 - val_accuracy: 0.9340\n",
      "Epoch 15/15\n",
      "125/125 [==============================] - 257s 2s/step - loss: 0.5611 - accuracy: 0.8848 - val_loss: 0.1824 - val_accuracy: 0.9370\n"
     ]
    }
   ],
   "source": [
    "# training the model\n",
    "#r_phase = model_phase.fit(train_generator, validation_data=(X_test, y_test), steps_per_epoch=steps_per_epochs, epochs=50)\n",
    "r_phase = model_phase.fit(X_train, y_train, validation_data=(X_test, y_test), epochs=15, callbacks=[early_stop])"
   ]
  },
  {
   "cell_type": "code",
   "execution_count": 38,
   "metadata": {},
   "outputs": [],
   "source": [
    "# We save the model\n",
    "model_phase.save('../../../criticality_trained_models/cnn_ising_phase([2.25, 2.26, 2.28, 2.29, Tc],L=128,max_per_temp=1000).h5')"
   ]
  },
  {
   "cell_type": "code",
   "execution_count": 39,
   "metadata": {},
   "outputs": [],
   "source": [
    "# to load it:\n",
    "#model_phase = tf.keras.models.load_model('~/ml/research/criticality_trained_models/cnn_ising_phase.h5')"
   ]
  },
  {
   "cell_type": "code",
   "execution_count": 40,
   "metadata": {
    "colab": {
     "base_uri": "https://localhost:8080/",
     "height": 282
    },
    "executionInfo": {
     "elapsed": 1268392,
     "status": "ok",
     "timestamp": 1609156274480,
     "user": {
      "displayName": "Matt",
      "photoUrl": "https://lh3.googleusercontent.com/a-/AOh14GgIzeuHHD36c1-IgguXB5KjqEoCp7UsZBNQGGvx5Q=s64",
      "userId": "13529861564108685423"
     },
     "user_tz": -540
    },
    "id": "JoQMrkJYG7tN",
    "outputId": "87b8bc10-595d-4619-ace0-8219c6667e43"
   },
   "outputs": [
    {
     "data": {
      "image/png": "[encoded data removed]",
      "text/plain": [
       "<Figure size 1008x432 with 2 Axes>"
      ]
     },
     "metadata": {
      "needs_background": "light"
     },
     "output_type": "display_data"
    }
   ],
   "source": [
    "plt.figure(figsize=(14,6))\n",
    "plt.subplot(1,2,1)\n",
    "plt.plot(r_phase.history['loss'], label='loss')\n",
    "plt.plot(r_phase.history['val_loss'], label='val_loss')\n",
    "plt.legend()\n",
    "plt.subplot(1,2,2)\n",
    "plt.plot(r_phase.history['accuracy'], label='accuracy')\n",
    "plt.plot(r_phase.history['val_accuracy'], label='val_accuracy')\n",
    "plt.legend()\n",
    "plt.show()"
   ]
  },
  {
   "cell_type": "code",
   "execution_count": 41,
   "metadata": {
    "id": "e_Ut01OXHQwj"
   },
   "outputs": [],
   "source": [
    "# Let us plot the confusion matrix\n",
    "p_test = model_phase.predict(X_test).argmax(axis=1)\n",
    "conf_matrix = confusion_matrix(y_test, p_test)"
   ]
  },
  {
   "cell_type": "code",
   "execution_count": 42,
   "metadata": {},
   "outputs": [
    {
     "data": {
      "image/png": "[encoded data removed]",
      "text/plain": [
       "<Figure size 720x720 with 2 Axes>"
      ]
     },
     "metadata": {
      "needs_background": "light"
     },
     "output_type": "display_data"
    }
   ],
   "source": [
    "plt.figure(figsize=(10,10))\n",
    "sns.heatmap(conf_matrix, cmap='Blues', annot=True)\n",
    "plt.xlabel('predicted')\n",
    "plt.ylabel('true label')\n",
    "plt.savefig('../saved_images/cnn_ising_phase([2.25, 2.26, 2.28, 2.29, Tc],L=128,max_per_temp=1000).jpg')\n",
    "plt.show()"
   ]
  },
  {
   "cell_type": "code",
   "execution_count": 56,
   "metadata": {},
   "outputs": [],
   "source": [
    "model_previous = tf.keras.models.load_model('../../criticality_trained_models/cnn_ising_phase([2.25, 2.26, 2.28, 2.29],L=256).h5')\n",
    "idir = r'/Users/matthieu.sarkis/ml/research/criticality_data/config-files/L=256'\n",
    "L = 256\n",
    "T_arr = np.append(np.round(np.array([2.25, 2.26, 2.28, 2.29]),4), Tc)\n",
    "X_test, y_test = read_temp_dependent_files_then_merge(idir, L, T_arr, Tc, max_configs_per_temperature=1000)\n",
    "p_test = model_previous.predict(X_test).argmax(axis=1)\n",
    "p_test = np.where(p_test == 0, -1, p_test)\n",
    "p_test = np.where(p_test > 0, 0, p_test)\n",
    "p_test = np.where(p_test == -1, 1, p_test)"
   ]
  },
  {
   "cell_type": "code",
   "execution_count": 57,
   "metadata": {},
   "outputs": [
    {
     "data": {
      "image/png": "[encoded data removed]",
      "text/plain": [
       "<Figure size 504x504 with 2 Axes>"
      ]
     },
     "metadata": {
      "needs_background": "light"
     },
     "output_type": "display_data"
    }
   ],
   "source": [
    "conf_matrix_previous = confusion_matrix(y_test, p_test)\n",
    "plt.figure(figsize=(7,7))\n",
    "sns.heatmap(conf_matrix_previous, cmap='Blues', annot=True)\n",
    "plt.xlabel('predicted')\n",
    "plt.ylabel('true label')\n",
    "plt.show()"
   ]
  },
  {
   "cell_type": "markdown",
   "metadata": {},
   "source": [
    "# Testing on percolation the CNN trained on Ising"
   ]
  },
  {
   "cell_type": "code",
   "execution_count": 2,
   "metadata": {},
   "outputs": [],
   "source": [
    "# to load it:\n",
    "model_trained_on_ising = tf.keras.models.load_model('../../criticality_trained_models/cnn_ising_phase([2.25, 2.26, 2.28, 2.29],L=256).h5')"
   ]
  },
  {
   "cell_type": "code",
   "execution_count": 8,
   "metadata": {},
   "outputs": [],
   "source": [
    "L = 256\n",
    "pc = 0.59274\n",
    "p_arr = np.round(np.array([0.57, 0.58, 0.61, 0.62]), 4)\n",
    "p_arr = np.append(p_arr, pc)\n",
    "X_perco, y_perco = read_percolation_data(L, p_arr, pc, max_configs_per_p=1000)"
   ]
  },
  {
   "cell_type": "code",
   "execution_count": 9,
   "metadata": {
    "id": "e_Ut01OXHQwj"
   },
   "outputs": [],
   "source": [
    "# Let us plot the confusion matrix\n",
    "p_test = model_trained_on_ising.predict(X_perco).argmax(axis=1)"
   ]
  },
  {
   "cell_type": "code",
   "execution_count": 10,
   "metadata": {},
   "outputs": [],
   "source": [
    "p_test = np.where(p_test == 0, -1, p_test)\n",
    "p_test = np.where(p_test > 0, 0, p_test)\n",
    "p_test = np.where(p_test == -1, 1, p_test)\n",
    "\n",
    "conf_matrix_perco = confusion_matrix(y_perco, p_test)"
   ]
  },
  {
   "cell_type": "code",
   "execution_count": 11,
   "metadata": {},
   "outputs": [
    {
     "data": {
      "image/png": "[encoded data removed]",
      "text/plain": [
       "<Figure size 504x504 with 2 Axes>"
      ]
     },
     "metadata": {
      "needs_background": "light"
     },
     "output_type": "display_data"
    }
   ],
   "source": [
    "plt.figure(figsize=(7,7))\n",
    "sns.heatmap(conf_matrix_perco, cmap='Blues', annot=True)\n",
    "plt.xlabel('predicted')\n",
    "plt.ylabel('true label')\n",
    "plt.show()"
   ]
  },
  {
   "cell_type": "code",
   "execution_count": null,
   "metadata": {},
   "outputs": [],
   "source": []
  }
 ],
 "metadata": {
  "kernelspec": {
   "display_name": "Python 3",
   "language": "python",
   "name": "python3"
  },
  "language_info": {
   "codemirror_mode": {
    "name": "ipython",
    "version": 3
   },
   "file_extension": ".py",
   "mimetype": "text/x-python",
   "name": "python",
   "nbconvert_exporter": "python",
   "pygments_lexer": "ipython3",
   "version": "3.8.5"
  }
 },
 "nbformat": 4,
 "nbformat_minor": 4
}
