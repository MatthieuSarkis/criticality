{
 "cells": [
  {
   "cell_type": "markdown",
   "metadata": {
    "id": "0j65zA8kG7tB"
   },
   "source": [
    "# Imports"
   ]
  },
  {
   "cell_type": "code",
   "execution_count": 12,
   "metadata": {
    "executionInfo": {
     "elapsed": 2091,
     "status": "ok",
     "timestamp": 1609154969126,
     "user": {
      "displayName": "Matt",
      "photoUrl": "https://lh3.googleusercontent.com/a-/AOh14GgIzeuHHD36c1-IgguXB5KjqEoCp7UsZBNQGGvx5Q=s64",
      "userId": "13529861564108685423"
     },
     "user_tz": -540
    },
    "id": "wGZq_nDiG7tJ"
   },
   "outputs": [],
   "source": [
    "import tensorflow as tf\n",
    "import numpy as np\n",
    "import matplotlib.pyplot as plt\n",
    "import seaborn as sns\n",
    "from tensorflow.keras.layers import Input, Conv2D, Dense, Flatten, Dropout, GlobalMaxPooling2D, MaxPooling2D, BatchNormalization\n",
    "from tensorflow.keras.models import Model\n",
    "from sklearn.metrics import confusion_matrix\n",
    "from read_spin_configs import read_temp_dependent_files_then_merge\n",
    "from percolation import read_percolation_data\n",
    "from sklearn.model_selection import train_test_split\n",
    "import sys"
   ]
  },
  {
   "cell_type": "markdown",
   "metadata": {
    "id": "0xGNugguG7tK"
   },
   "source": [
    "# Loading and preprocessing the data"
   ]
  },
  {
   "cell_type": "code",
   "execution_count": 10,
   "metadata": {},
   "outputs": [],
   "source": [
    "idir = r'/Users/matthieu.sarkis/ml/research/criticality_data/config-files/L=128'\n",
    "L = 128\n",
    "Tc = 2.2692\n",
    "#T_arr = np.round(np.arange(1.8, 3.0, 0.01),4)\n",
    "T_arr = np.round(np.array([2.21, 2.22, 2.23, 2.24, 2.25, 2.26, 2.28, 2.29, 2.30, 2.31, 2.32]), 4)\n",
    "T_arr = np.append(T_arr, Tc)"
   ]
  },
  {
   "cell_type": "code",
   "execution_count": 11,
   "metadata": {},
   "outputs": [],
   "source": [
    "X, y = read_temp_dependent_files_then_merge(idir, L, T_arr, Tc, max_configs_per_temperature=5000)"
   ]
  },
  {
   "cell_type": "code",
   "execution_count": 12,
   "metadata": {},
   "outputs": [
    {
     "name": "stdout",
     "output_type": "stream",
     "text": [
      "(60000, 128, 128, 1) (60000,)\n"
     ]
    }
   ],
   "source": [
    "print(X.shape, y.shape)"
   ]
  },
  {
   "cell_type": "code",
   "execution_count": 13,
   "metadata": {},
   "outputs": [],
   "source": [
    "N = X.shape[0]\n",
    "L = X.shape[1] "
   ]
  },
  {
   "cell_type": "code",
   "execution_count": 14,
   "metadata": {},
   "outputs": [],
   "source": [
    "X_train, X_test, y_train, y_test = train_test_split(X, y, test_size=0.20, random_state=42, stratify=y)"
   ]
  },
  {
   "cell_type": "code",
   "execution_count": 15,
   "metadata": {},
   "outputs": [
    {
     "name": "stdout",
     "output_type": "stream",
     "text": [
      "X.shape: (60000, 128, 128, 1) , y.shape: (60000,)\n",
      "X_train.shape: (48000, 128, 128, 1) , y_train.shape: (48000,)\n",
      "X_test.shape: (12000, 128, 128, 1) , y_test.shape: (12000,)\n"
     ]
    }
   ],
   "source": [
    "print('X.shape:', X.shape, ', y.shape:', y.shape)\n",
    "print('X_train.shape:', X_train.shape, ', y_train.shape:', y_train.shape)\n",
    "print('X_test.shape:', X_test.shape, ', y_test.shape:', y_test.shape)"
   ]
  },
  {
   "cell_type": "code",
   "execution_count": 16,
   "metadata": {
    "colab": {
     "base_uri": "https://localhost:8080/"
    },
    "executionInfo": {
     "elapsed": 754,
     "status": "ok",
     "timestamp": 1609154986398,
     "user": {
      "displayName": "Matt",
      "photoUrl": "https://lh3.googleusercontent.com/a-/AOh14GgIzeuHHD36c1-IgguXB5KjqEoCp7UsZBNQGGvx5Q=s64",
      "userId": "13529861564108685423"
     },
     "user_tz": -540
    },
    "id": "W5bbJ6lDG7tL",
    "outputId": "d1ef6d1b-782c-43fe-ce3e-53986a3301d0"
   },
   "outputs": [
    {
     "name": "stdout",
     "output_type": "stream",
     "text": [
      "number of classes: 2\n"
     ]
    }
   ],
   "source": [
    "# number of classes\n",
    "K = len(set(y_train))\n",
    "print(\"number of classes:\", K)"
   ]
  },
  {
   "cell_type": "markdown",
   "metadata": {
    "id": "l5soKXf2G7tL"
   },
   "source": [
    "# Definition of the network and training for classification"
   ]
  },
  {
   "cell_type": "code",
   "execution_count": 13,
   "metadata": {},
   "outputs": [],
   "source": [
    "def CNN_net(L, K):\n",
    "    # input layer\n",
    "    i = Input(shape=(L,L,1))\n",
    "\n",
    "    # Convolution block\n",
    "    x = Conv2D(32, (3,3), activation='relu', padding='same')(i)\n",
    "    x = BatchNormalization()(x)\n",
    "    x = Conv2D(32, (3,3), activation='relu', padding='same')(x)\n",
    "    x = BatchNormalization()(x)\n",
    "    x = MaxPooling2D((2,2))(x)\n",
    "    \n",
    "    x = Conv2D(64, (3,3), activation='relu', padding='same')(x)\n",
    "    x = BatchNormalization()(x)\n",
    "    x = Conv2D(64, (3,3), activation='relu', padding='same')(x)\n",
    "    x = BatchNormalization()(x)\n",
    "    x = MaxPooling2D((2,2))(x)\n",
    "    \n",
    "    x = Conv2D(128, (3,3), activation='relu', padding='same')(x)\n",
    "    x = BatchNormalization()(x)\n",
    "    x = Conv2D(128, (3,3), activation='relu', padding='same')(x)\n",
    "    x = BatchNormalization()(x)\n",
    "    x = MaxPooling2D((2,2))(x)\n",
    "\n",
    "    # Classification block\n",
    "    x = Flatten()(x)\n",
    "    x = Dropout(0.2)(x)\n",
    "    x = Dense(512, activation='relu')(x)\n",
    "    x = Dropout(0.2)(x)\n",
    "    x = Dense(1024, activation='relu')(x)\n",
    "    x = Dropout(0.2)(x)\n",
    "    x = Dense(K, activation='softmax')(x)\n",
    "\n",
    "    model = Model(i, x)\n",
    "    return model"
   ]
  },
  {
   "cell_type": "code",
   "execution_count": 14,
   "metadata": {
    "executionInfo": {
     "elapsed": 6406,
     "status": "ok",
     "timestamp": 1609154993313,
     "user": {
      "displayName": "Matt",
      "photoUrl": "https://lh3.googleusercontent.com/a-/AOh14GgIzeuHHD36c1-IgguXB5KjqEoCp7UsZBNQGGvx5Q=s64",
      "userId": "13529861564108685423"
     },
     "user_tz": -540
    },
    "id": "EXbhuzgwG7tM"
   },
   "outputs": [],
   "source": [
    "model_dummy = CNN_net(10, 2)"
   ]
  },
  {
   "cell_type": "code",
   "execution_count": 16,
   "metadata": {},
   "outputs": [],
   "source": [
    "layer_outputs = [layer.output for layer in model_dummy.layers[:12]] "
   ]
  },
  {
   "cell_type": "code",
   "execution_count": 18,
   "metadata": {},
   "outputs": [
    {
     "data": {
      "text/plain": [
       "[<tf.Tensor 'input_1:0' shape=(None, 10, 10, 1) dtype=float32>,\n",
       " <tf.Tensor 'conv2d/Relu:0' shape=(None, 10, 10, 32) dtype=float32>,\n",
       " <tf.Tensor 'batch_normalization/cond/Identity:0' shape=(None, 10, 10, 32) dtype=float32>,\n",
       " <tf.Tensor 'conv2d_1/Relu:0' shape=(None, 10, 10, 32) dtype=float32>,\n",
       " <tf.Tensor 'batch_normalization_1/cond/Identity:0' shape=(None, 10, 10, 32) dtype=float32>,\n",
       " <tf.Tensor 'max_pooling2d/MaxPool:0' shape=(None, 5, 5, 32) dtype=float32>,\n",
       " <tf.Tensor 'conv2d_2/Relu:0' shape=(None, 5, 5, 64) dtype=float32>,\n",
       " <tf.Tensor 'batch_normalization_2/cond/Identity:0' shape=(None, 5, 5, 64) dtype=float32>,\n",
       " <tf.Tensor 'conv2d_3/Relu:0' shape=(None, 5, 5, 64) dtype=float32>,\n",
       " <tf.Tensor 'batch_normalization_3/cond/Identity:0' shape=(None, 5, 5, 64) dtype=float32>,\n",
       " <tf.Tensor 'max_pooling2d_1/MaxPool:0' shape=(None, 2, 2, 64) dtype=float32>,\n",
       " <tf.Tensor 'conv2d_4/Relu:0' shape=(None, 2, 2, 128) dtype=float32>]"
      ]
     },
     "execution_count": 18,
     "metadata": {},
     "output_type": "execute_result"
    }
   ],
   "source": [
    "layer_outputs"
   ]
  },
  {
   "cell_type": "code",
   "execution_count": 20,
   "metadata": {
    "executionInfo": {
     "elapsed": 696,
     "status": "ok",
     "timestamp": 1609154998542,
     "user": {
      "displayName": "Matt",
      "photoUrl": "https://lh3.googleusercontent.com/a-/AOh14GgIzeuHHD36c1-IgguXB5KjqEoCp7UsZBNQGGvx5Q=s64",
      "userId": "13529861564108685423"
     },
     "user_tz": -540
    },
    "id": "ceWWwqdZG7tM"
   },
   "outputs": [],
   "source": [
    "# Compiling the model\n",
    "\n",
    "# Inverse time decaying learning rate\n",
    "# initial_learning_rate / (1 + decay_rate * floor(step / decay_step))\n",
    "initial_learning_rate = 0.01\n",
    "decay_steps = 1.0\n",
    "decay_rate = 0.5\n",
    "learning_rate_fn = tf.keras.optimizers.schedules.InverseTimeDecay(initial_learning_rate, decay_steps, decay_rate)\n",
    "\n",
    "opt = tf.keras.optimizers.Adam(learning_rate=learning_rate_fn)\n",
    "model_phase.compile(optimizer=opt, loss='sparse_categorical_crossentropy', metrics=['accuracy'])"
   ]
  },
  {
   "cell_type": "code",
   "execution_count": 21,
   "metadata": {
    "executionInfo": {
     "elapsed": 1197,
     "status": "ok",
     "timestamp": 1609155000804,
     "user": {
      "displayName": "Matt",
      "photoUrl": "https://lh3.googleusercontent.com/a-/AOh14GgIzeuHHD36c1-IgguXB5KjqEoCp7UsZBNQGGvx5Q=s64",
      "userId": "13529861564108685423"
     },
     "user_tz": -540
    },
    "id": "QMmceakfG7tM"
   },
   "outputs": [],
   "source": [
    "# data augmentation, we allow for rotations of the image.\n",
    "# At critical temperature, one could also allow for scalings?\n",
    "#batch_size = 20\n",
    "#data_generator = tf.keras.preprocessing.image.ImageDataGenerator(rotation_range=90, horizontal_flip=True, vertical_flip=True)\n",
    "#train_generator = data_generator.flow(X_train, y_train, batch_size)\n",
    "#steps_per_epochs = X_train.shape[0] // batch_size"
   ]
  },
  {
   "cell_type": "code",
   "execution_count": 22,
   "metadata": {},
   "outputs": [],
   "source": [
    "# Callbacks\n",
    "early_stop = tf.keras.callbacks.EarlyStopping(monitor='val_loss', patience=7, mode='min')\n",
    "\n",
    "#initial_learning_rate = 0.01\n",
    "#reduce_lr = tf.keras.callbacks.ReduceLROnPlateau(monitor='val_loss', factor=0.1, patience=4, min_lr=0.001)"
   ]
  },
  {
   "cell_type": "code",
   "execution_count": 23,
   "metadata": {},
   "outputs": [],
   "source": [
    "#opt = tf.keras.optimizers.Adam(learning_rate=initial_learning_rate)\n",
    "#model_phase.compile(optimizer=opt, loss='sparse_categorical_crossentropy', metrics=['accuracy'])"
   ]
  },
  {
   "cell_type": "code",
   "execution_count": 24,
   "metadata": {},
   "outputs": [
    {
     "name": "stdout",
     "output_type": "stream",
     "text": [
      "Epoch 1/25\n",
      "1500/1500 [==============================] - 2353s 2s/step - loss: 1.1586 - accuracy: 0.9154 - val_loss: 0.1693 - val_accuracy: 0.9384\n",
      "Epoch 2/25\n",
      "1500/1500 [==============================] - 2239s 1s/step - loss: 0.2569 - accuracy: 0.9243 - val_loss: 0.1552 - val_accuracy: 0.9427\n",
      "Epoch 3/25\n",
      "1500/1500 [==============================] - 2913s 2s/step - loss: 0.2364 - accuracy: 0.9273 - val_loss: 0.1476 - val_accuracy: 0.9447\n",
      "Epoch 4/25\n",
      "1500/1500 [==============================] - 2897s 2s/step - loss: 0.2091 - accuracy: 0.9297 - val_loss: 0.1423 - val_accuracy: 0.9459\n",
      "Epoch 5/25\n",
      "1500/1500 [==============================] - 2395s 2s/step - loss: 0.2021 - accuracy: 0.9312 - val_loss: 0.1398 - val_accuracy: 0.9460\n",
      "Epoch 6/25\n",
      "1500/1500 [==============================] - 2134s 1s/step - loss: 0.1849 - accuracy: 0.9333 - val_loss: 0.1355 - val_accuracy: 0.9469\n",
      "Epoch 7/25\n",
      "1500/1500 [==============================] - 2134s 1s/step - loss: 0.1862 - accuracy: 0.9332 - val_loss: 0.1333 - val_accuracy: 0.9478\n",
      "Epoch 8/25\n",
      "1500/1500 [==============================] - 2136s 1s/step - loss: 0.1871 - accuracy: 0.9336 - val_loss: 0.1326 - val_accuracy: 0.9491\n",
      "Epoch 9/25\n",
      "1500/1500 [==============================] - 2132s 1s/step - loss: 0.1777 - accuracy: 0.9342 - val_loss: 0.1330 - val_accuracy: 0.9484\n",
      "Epoch 10/25\n",
      "1500/1500 [==============================] - 2138s 1s/step - loss: 0.1690 - accuracy: 0.9359 - val_loss: 0.1297 - val_accuracy: 0.9492\n",
      "Epoch 11/25\n",
      "1500/1500 [==============================] - 2138s 1s/step - loss: 0.1814 - accuracy: 0.9353 - val_loss: 0.1313 - val_accuracy: 0.9495\n",
      "Epoch 12/25\n",
      "1500/1500 [==============================] - 2128s 1s/step - loss: 0.1681 - accuracy: 0.9364 - val_loss: 0.1297 - val_accuracy: 0.9509\n",
      "Epoch 13/25\n",
      "1500/1500 [==============================] - 2158s 1s/step - loss: 0.1666 - accuracy: 0.9376 - val_loss: 0.1273 - val_accuracy: 0.9508\n",
      "Epoch 14/25\n",
      "1500/1500 [==============================] - 2135s 1s/step - loss: 0.1677 - accuracy: 0.9370 - val_loss: 0.1276 - val_accuracy: 0.9508\n",
      "Epoch 15/25\n",
      "1500/1500 [==============================] - 2140s 1s/step - loss: 0.1633 - accuracy: 0.9380 - val_loss: 0.1279 - val_accuracy: 0.9517\n",
      "Epoch 16/25\n",
      "1500/1500 [==============================] - 2130s 1s/step - loss: 0.1681 - accuracy: 0.9374 - val_loss: 0.1266 - val_accuracy: 0.9520\n",
      "Epoch 17/25\n",
      "1500/1500 [==============================] - 2119s 1s/step - loss: 0.1572 - accuracy: 0.9392 - val_loss: 0.1249 - val_accuracy: 0.9519\n",
      "Epoch 18/25\n",
      "1500/1500 [==============================] - 2141s 1s/step - loss: 0.1605 - accuracy: 0.9398 - val_loss: 0.1251 - val_accuracy: 0.9528\n",
      "Epoch 19/25\n",
      "1500/1500 [==============================] - 2136s 1s/step - loss: 0.1614 - accuracy: 0.9387 - val_loss: 0.1246 - val_accuracy: 0.9528\n",
      "Epoch 20/25\n",
      "1500/1500 [==============================] - 2110s 1s/step - loss: 0.1586 - accuracy: 0.9389 - val_loss: 0.1251 - val_accuracy: 0.9528\n",
      "Epoch 21/25\n",
      "1500/1500 [==============================] - 2122s 1s/step - loss: 0.1555 - accuracy: 0.9393 - val_loss: 0.1235 - val_accuracy: 0.9529\n",
      "Epoch 22/25\n",
      "1500/1500 [==============================] - 2099s 1s/step - loss: 0.1552 - accuracy: 0.9401 - val_loss: 0.1239 - val_accuracy: 0.9533\n",
      "Epoch 23/25\n",
      "1500/1500 [==============================] - 2118s 1s/step - loss: 0.1544 - accuracy: 0.9400 - val_loss: 0.1228 - val_accuracy: 0.9530\n",
      "Epoch 24/25\n",
      "1500/1500 [==============================] - 2129s 1s/step - loss: 0.1507 - accuracy: 0.9409 - val_loss: 0.1262 - val_accuracy: 0.9525\n",
      "Epoch 25/25\n",
      "1500/1500 [==============================] - 2130s 1s/step - loss: 0.1581 - accuracy: 0.9400 - val_loss: 0.1220 - val_accuracy: 0.9531\n"
     ]
    }
   ],
   "source": [
    "# training the model\n",
    "#r_phase = model_phase.fit(train_generator, validation_data=(X_test, y_test), steps_per_epoch=steps_per_epochs, epochs=50)\n",
    "r_phase = model_phase.fit(X_train, y_train, validation_data=(X_test, y_test), epochs=25, callbacks=[early_stop])"
   ]
  },
  {
   "cell_type": "code",
   "execution_count": 25,
   "metadata": {},
   "outputs": [],
   "source": [
    "# We save the model\n",
    "model_phase.save('../../criticality_trained_models/cnn_ising_phase([2.21, 2.22, 2.23, 2.24, 2.25, 2.26, 2.28, 2.29, 2.30, 2.31, 2.32, 2.33],L=128).h5')"
   ]
  },
  {
   "cell_type": "code",
   "execution_count": 26,
   "metadata": {},
   "outputs": [],
   "source": [
    "# to load it:\n",
    "#model_phase = tf.keras.models.load_model('~/ml/research/criticality_trained_models/cnn_ising_phase.h5')"
   ]
  },
  {
   "cell_type": "code",
   "execution_count": 27,
   "metadata": {
    "colab": {
     "base_uri": "https://localhost:8080/",
     "height": 282
    },
    "executionInfo": {
     "elapsed": 1268392,
     "status": "ok",
     "timestamp": 1609156274480,
     "user": {
      "displayName": "Matt",
      "photoUrl": "https://lh3.googleusercontent.com/a-/AOh14GgIzeuHHD36c1-IgguXB5KjqEoCp7UsZBNQGGvx5Q=s64",
      "userId": "13529861564108685423"
     },
     "user_tz": -540
    },
    "id": "JoQMrkJYG7tN",
    "outputId": "87b8bc10-595d-4619-ace0-8219c6667e43"
   },
   "outputs": [
    {
     "data": {
      "image/png": "[encoded data removed]",
      "text/plain": [
       "<Figure size 1008x432 with 2 Axes>"
      ]
     },
     "metadata": {
      "needs_background": "light"
     },
     "output_type": "display_data"
    }
   ],
   "source": [
    "plt.figure(figsize=(14,6))\n",
    "plt.subplot(1,2,1)\n",
    "plt.plot(r_phase.history['loss'], label='loss')\n",
    "plt.plot(r_phase.history['val_loss'], label='val_loss')\n",
    "plt.legend()\n",
    "plt.subplot(1,2,2)\n",
    "plt.plot(r_phase.history['accuracy'], label='accuracy')\n",
    "plt.plot(r_phase.history['val_accuracy'], label='val_accuracy')\n",
    "plt.legend()\n",
    "plt.show()"
   ]
  },
  {
   "cell_type": "code",
   "execution_count": 28,
   "metadata": {
    "id": "e_Ut01OXHQwj"
   },
   "outputs": [],
   "source": [
    "# Let us plot the confusion matrix\n",
    "p_test = model_phase.predict(X_test).argmax(axis=1)\n",
    "conf_matrix = confusion_matrix(y_test, p_test)"
   ]
  },
  {
   "cell_type": "code",
   "execution_count": 29,
   "metadata": {},
   "outputs": [
    {
     "data": {
      "image/png": "[encoded data removed]",
      "text/plain": [
       "<Figure size 504x504 with 2 Axes>"
      ]
     },
     "metadata": {
      "needs_background": "light"
     },
     "output_type": "display_data"
    }
   ],
   "source": [
    "plt.figure(figsize=(7,7))\n",
    "sns.heatmap(conf_matrix, cmap='Blues', annot=True)\n",
    "plt.xlabel('predicted')\n",
    "plt.ylabel('true label')\n",
    "plt.savefig('./saved_images/cnn_ising_phase([2.21, 2.22, 2.23, 2.24, 2.25, 2.26, 2.28, 2.29, 2.30, 2.31, 2.32, 2.33],L=128).jpg')\n",
    "plt.show()"
   ]
  },
  {
   "cell_type": "code",
   "execution_count": 56,
   "metadata": {},
   "outputs": [],
   "source": [
    "model_previous = tf.keras.models.load_model('../../criticality_trained_models/cnn_ising_phase([2.25, 2.26, 2.28, 2.29],L=256).h5')\n",
    "idir = r'/Users/matthieu.sarkis/ml/research/criticality_data/config-files/L=256'\n",
    "L = 256\n",
    "T_arr = np.append(np.round(np.array([2.25, 2.26, 2.28, 2.29]),4), Tc)\n",
    "X_test, y_test = read_temp_dependent_files_then_merge(idir, L, T_arr, Tc, max_configs_per_temperature=1000)\n",
    "p_test = model_previous.predict(X_test).argmax(axis=1)\n",
    "p_test = np.where(p_test == 0, -1, p_test)\n",
    "p_test = np.where(p_test > 0, 0, p_test)\n",
    "p_test = np.where(p_test == -1, 1, p_test)"
   ]
  },
  {
   "cell_type": "code",
   "execution_count": 57,
   "metadata": {},
   "outputs": [
    {
     "data": {
      "image/png": "[encoded data removed]",
      "text/plain": [
       "<Figure size 504x504 with 2 Axes>"
      ]
     },
     "metadata": {
      "needs_background": "light"
     },
     "output_type": "display_data"
    }
   ],
   "source": [
    "conf_matrix_previous = confusion_matrix(y_test, p_test)\n",
    "plt.figure(figsize=(7,7))\n",
    "sns.heatmap(conf_matrix_previous, cmap='Blues', annot=True)\n",
    "plt.xlabel('predicted')\n",
    "plt.ylabel('true label')\n",
    "plt.show()"
   ]
  },
  {
   "cell_type": "markdown",
   "metadata": {},
   "source": [
    "# Testing on percolation the CNN trained on Ising"
   ]
  },
  {
   "cell_type": "code",
   "execution_count": 2,
   "metadata": {},
   "outputs": [],
   "source": [
    "# to load it:\n",
    "model_trained_on_ising = tf.keras.models.load_model('../../criticality_trained_models/cnn_ising_phase([2.25, 2.26, 2.28, 2.29],L=256).h5')"
   ]
  },
  {
   "cell_type": "code",
   "execution_count": 8,
   "metadata": {},
   "outputs": [],
   "source": [
    "L = 256\n",
    "pc = 0.59274\n",
    "p_arr = np.round(np.array([0.57, 0.58, 0.61, 0.62]), 4)\n",
    "p_arr = np.append(p_arr, pc)\n",
    "X_perco, y_perco = read_percolation_data(L, p_arr, pc, max_configs_per_p=1000)"
   ]
  },
  {
   "cell_type": "code",
   "execution_count": 9,
   "metadata": {
    "id": "e_Ut01OXHQwj"
   },
   "outputs": [],
   "source": [
    "# Let us plot the confusion matrix\n",
    "p_test = model_trained_on_ising.predict(X_perco).argmax(axis=1)"
   ]
  },
  {
   "cell_type": "code",
   "execution_count": 10,
   "metadata": {},
   "outputs": [],
   "source": [
    "p_test = np.where(p_test == 0, -1, p_test)\n",
    "p_test = np.where(p_test > 0, 0, p_test)\n",
    "p_test = np.where(p_test == -1, 1, p_test)\n",
    "\n",
    "conf_matrix_perco = confusion_matrix(y_perco, p_test)"
   ]
  },
  {
   "cell_type": "code",
   "execution_count": 11,
   "metadata": {},
   "outputs": [
    {
     "data": {
      "image/png": "[encoded data removed]",
      "text/plain": [
       "<Figure size 504x504 with 2 Axes>"
      ]
     },
     "metadata": {
      "needs_background": "light"
     },
     "output_type": "display_data"
    }
   ],
   "source": [
    "plt.figure(figsize=(7,7))\n",
    "sns.heatmap(conf_matrix_perco, cmap='Blues', annot=True)\n",
    "plt.xlabel('predicted')\n",
    "plt.ylabel('true label')\n",
    "plt.show()"
   ]
  },
  {
   "cell_type": "code",
   "execution_count": null,
   "metadata": {},
   "outputs": [],
   "source": []
  }
 ],
 "metadata": {
  "kernelspec": {
   "display_name": "Python 3",
   "language": "python",
   "name": "python3"
  },
  "language_info": {
   "codemirror_mode": {
    "name": "ipython",
    "version": 3
   },
   "file_extension": ".py",
   "mimetype": "text/x-python",
   "name": "python",
   "nbconvert_exporter": "python",
   "pygments_lexer": "ipython3",
   "version": "3.7.2"
  }
 },
 "nbformat": 4,
 "nbformat_minor": 4
}
