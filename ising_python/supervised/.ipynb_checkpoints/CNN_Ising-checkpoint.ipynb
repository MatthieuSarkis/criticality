{
 "cells": [
  {
   "cell_type": "markdown",
   "metadata": {
    "id": "0j65zA8kG7tB"
   },
   "source": [
    "# Imports"
   ]
  },
  {
   "cell_type": "code",
   "execution_count": 9,
   "metadata": {
    "executionInfo": {
     "elapsed": 2091,
     "status": "ok",
     "timestamp": 1609154969126,
     "user": {
      "displayName": "Matt",
      "photoUrl": "https://lh3.googleusercontent.com/a-/AOh14GgIzeuHHD36c1-IgguXB5KjqEoCp7UsZBNQGGvx5Q=s64",
      "userId": "13529861564108685423"
     },
     "user_tz": -540
    },
    "id": "wGZq_nDiG7tJ"
   },
   "outputs": [],
   "source": [
    "import tensorflow as tf\n",
    "import numpy as np\n",
    "import matplotlib.pyplot as plt\n",
    "import seaborn as sns\n",
    "from tensorflow.keras.layers import Input, Conv2D, Dense, Flatten, Dropout, GlobalMaxPooling2D, MaxPooling2D, BatchNormalization\n",
    "from tensorflow.keras.models import Model\n",
    "from sklearn.metrics import confusion_matrix\n",
    "from read_spin_configs import read_temp_dependent_files_then_merge\n",
    "from percolation import read_percolation_data\n",
    "from sklearn.model_selection import train_test_split\n",
    "import sys"
   ]
  },
  {
   "cell_type": "markdown",
   "metadata": {
    "id": "0xGNugguG7tK"
   },
   "source": [
    "# Loading and preprocessing the data"
   ]
  },
  {
   "cell_type": "code",
   "execution_count": 10,
   "metadata": {},
   "outputs": [],
   "source": [
    "idir = r'/Users/matthieu.sarkis/git_repos/criticality_data/config-files/L=128'\n",
    "L = 128\n",
    "Tc = 2.2692\n",
    "#T_arr = np.round(np.arange(1.8, 3.0, 0.01),4)\n",
    "T_arr = np.round(np.array([2.21, 2.22, 2.23, 2.24, 2.25, 2.26, 2.28, 2.29, 2.30, 2.31, 2.32]), 4)\n",
    "T_arr = np.append(T_arr, Tc)"
   ]
  },
  {
   "cell_type": "code",
   "execution_count": 11,
   "metadata": {},
   "outputs": [],
   "source": [
    "X, y = read_temp_dependent_files_then_merge(idir, L, T_arr, Tc, max_configs_per_temperature=1000)"
   ]
  },
  {
   "cell_type": "code",
   "execution_count": 12,
   "metadata": {},
   "outputs": [
    {
     "name": "stdout",
     "output_type": "stream",
     "text": [
      "(12000, 128, 128, 1) (12000,)\n"
     ]
    }
   ],
   "source": [
    "print(X.shape, y.shape)"
   ]
  },
  {
   "cell_type": "code",
   "execution_count": 13,
   "metadata": {},
   "outputs": [],
   "source": [
    "N = X.shape[0]\n",
    "L = X.shape[1] "
   ]
  },
  {
   "cell_type": "code",
   "execution_count": 14,
   "metadata": {},
   "outputs": [],
   "source": [
    "X_train, X_test, y_train, y_test = train_test_split(X, y, test_size=0.20, random_state=42, stratify=y)"
   ]
  },
  {
   "cell_type": "code",
   "execution_count": 15,
   "metadata": {},
   "outputs": [
    {
     "name": "stdout",
     "output_type": "stream",
     "text": [
      "X.shape: (12000, 128, 128, 1) , y.shape: (12000,)\n",
      "X_train.shape: (9600, 128, 128, 1) , y_train.shape: (9600,)\n",
      "X_test.shape: (2400, 128, 128, 1) , y_test.shape: (2400,)\n"
     ]
    }
   ],
   "source": [
    "print('X.shape:', X.shape, ', y.shape:', y.shape)\n",
    "print('X_train.shape:', X_train.shape, ', y_train.shape:', y_train.shape)\n",
    "print('X_test.shape:', X_test.shape, ', y_test.shape:', y_test.shape)"
   ]
  },
  {
   "cell_type": "code",
   "execution_count": 16,
   "metadata": {
    "colab": {
     "base_uri": "https://localhost:8080/"
    },
    "executionInfo": {
     "elapsed": 754,
     "status": "ok",
     "timestamp": 1609154986398,
     "user": {
      "displayName": "Matt",
      "photoUrl": "https://lh3.googleusercontent.com/a-/AOh14GgIzeuHHD36c1-IgguXB5KjqEoCp7UsZBNQGGvx5Q=s64",
      "userId": "13529861564108685423"
     },
     "user_tz": -540
    },
    "id": "W5bbJ6lDG7tL",
    "outputId": "d1ef6d1b-782c-43fe-ce3e-53986a3301d0"
   },
   "outputs": [
    {
     "name": "stdout",
     "output_type": "stream",
     "text": [
      "number of classes: 12\n"
     ]
    }
   ],
   "source": [
    "# number of classes\n",
    "K = len(set(y_train))\n",
    "print(\"number of classes:\", K)"
   ]
  },
  {
   "cell_type": "markdown",
   "metadata": {
    "id": "l5soKXf2G7tL"
   },
   "source": [
    "# Definition of the network and training for classification"
   ]
  },
  {
   "cell_type": "code",
   "execution_count": 19,
   "metadata": {},
   "outputs": [],
   "source": [
    "def CNN_net(L, K):\n",
    "    # input layer\n",
    "    i = Input(shape=(L,L,1))\n",
    "\n",
    "    # Convolution block\n",
    "    x = Conv2D(32, (3,3), activation='relu', padding='same')(i)\n",
    "    x = BatchNormalization()(x)\n",
    "    x = Conv2D(32, (3,3), activation='relu', padding='same')(x)\n",
    "    x = BatchNormalization()(x)\n",
    "    x = MaxPooling2D((2,2))(x)\n",
    "    \n",
    "    x = Conv2D(64, (3,3), activation='relu', padding='same')(x)\n",
    "    x = BatchNormalization()(x)\n",
    "    x = Conv2D(64, (3,3), activation='relu', padding='same')(x)\n",
    "    x = BatchNormalization()(x)\n",
    "    x = MaxPooling2D((2,2))(x)\n",
    "    \n",
    "    x = Conv2D(128, (3,3), activation='relu', padding='same')(x)\n",
    "    x = BatchNormalization()(x)\n",
    "    x = Conv2D(128, (3,3), activation='relu', padding='same')(x)\n",
    "    x = BatchNormalization()(x)\n",
    "    x = MaxPooling2D((2,2))(x)\n",
    "\n",
    "    # Classification block\n",
    "    x = Flatten()(x)\n",
    "    x = Dropout(0.2)(x)\n",
    "    x = Dense(512, activation='relu')(x)\n",
    "    x = Dropout(0.2)(x)\n",
    "    x = Dense(1024, activation='relu')(x)\n",
    "    x = Dropout(0.2)(x)\n",
    "    x = Dense(K, activation='softmax')(x)\n",
    "\n",
    "    model = Model(i, x)\n",
    "    return model"
   ]
  },
  {
   "cell_type": "code",
   "execution_count": 20,
   "metadata": {
    "executionInfo": {
     "elapsed": 6406,
     "status": "ok",
     "timestamp": 1609154993313,
     "user": {
      "displayName": "Matt",
      "photoUrl": "https://lh3.googleusercontent.com/a-/AOh14GgIzeuHHD36c1-IgguXB5KjqEoCp7UsZBNQGGvx5Q=s64",
      "userId": "13529861564108685423"
     },
     "user_tz": -540
    },
    "id": "EXbhuzgwG7tM"
   },
   "outputs": [],
   "source": [
    "model_phase = CNN_net(L, K)"
   ]
  },
  {
   "cell_type": "code",
   "execution_count": 22,
   "metadata": {
    "executionInfo": {
     "elapsed": 696,
     "status": "ok",
     "timestamp": 1609154998542,
     "user": {
      "displayName": "Matt",
      "photoUrl": "https://lh3.googleusercontent.com/a-/AOh14GgIzeuHHD36c1-IgguXB5KjqEoCp7UsZBNQGGvx5Q=s64",
      "userId": "13529861564108685423"
     },
     "user_tz": -540
    },
    "id": "ceWWwqdZG7tM"
   },
   "outputs": [],
   "source": [
    "# Compiling the model\n",
    "\n",
    "# Inverse time decaying learning rate\n",
    "# initial_learning_rate / (1 + decay_rate * floor(step / decay_step))\n",
    "initial_learning_rate = 0.01\n",
    "decay_steps = 1.0\n",
    "decay_rate = 0.5\n",
    "learning_rate_fn = tf.keras.optimizers.schedules.InverseTimeDecay(initial_learning_rate, decay_steps, decay_rate)\n",
    "\n",
    "opt = tf.keras.optimizers.Adam(learning_rate=learning_rate_fn)\n",
    "model_phase.compile(optimizer=opt, loss='sparse_categorical_crossentropy', metrics=['accuracy'])"
   ]
  },
  {
   "cell_type": "code",
   "execution_count": 23,
   "metadata": {
    "executionInfo": {
     "elapsed": 1197,
     "status": "ok",
     "timestamp": 1609155000804,
     "user": {
      "displayName": "Matt",
      "photoUrl": "https://lh3.googleusercontent.com/a-/AOh14GgIzeuHHD36c1-IgguXB5KjqEoCp7UsZBNQGGvx5Q=s64",
      "userId": "13529861564108685423"
     },
     "user_tz": -540
    },
    "id": "QMmceakfG7tM"
   },
   "outputs": [],
   "source": [
    "# data augmentation, we allow for rotations of the image.\n",
    "# At critical temperature, one could also allow for scalings?\n",
    "#batch_size = 20\n",
    "#data_generator = tf.keras.preprocessing.image.ImageDataGenerator(rotation_range=90, horizontal_flip=True, vertical_flip=True)\n",
    "#train_generator = data_generator.flow(X_train, y_train, batch_size)\n",
    "#steps_per_epochs = X_train.shape[0] // batch_size"
   ]
  },
  {
   "cell_type": "code",
   "execution_count": 24,
   "metadata": {},
   "outputs": [],
   "source": [
    "# Callbacks\n",
    "early_stop = tf.keras.callbacks.EarlyStopping(monitor='val_loss', patience=7, mode='min')\n",
    "\n",
    "#initial_learning_rate = 0.01\n",
    "#reduce_lr = tf.keras.callbacks.ReduceLROnPlateau(monitor='val_loss', factor=0.1, patience=4, min_lr=0.001)"
   ]
  },
  {
   "cell_type": "code",
   "execution_count": 25,
   "metadata": {},
   "outputs": [],
   "source": [
    "#opt = tf.keras.optimizers.Adam(learning_rate=initial_learning_rate)\n",
    "#model_phase.compile(optimizer=opt, loss='sparse_categorical_crossentropy', metrics=['accuracy'])"
   ]
  },
  {
   "cell_type": "code",
   "execution_count": 26,
   "metadata": {},
   "outputs": [
    {
     "name": "stdout",
     "output_type": "stream",
     "text": [
      "Epoch 1/25\n",
      "300/300 [==============================] - 469s 2s/step - loss: 13.3412 - accuracy: 0.4668 - val_loss: 105.7829 - val_accuracy: 0.1775\n",
      "Epoch 2/25\n",
      "300/300 [==============================] - 470s 2s/step - loss: 1.4812 - accuracy: 0.5689 - val_loss: 100.0567 - val_accuracy: 0.4283\n",
      "Epoch 3/25\n",
      "300/300 [==============================] - 423s 1s/step - loss: 1.2446 - accuracy: 0.6048 - val_loss: 0.9144 - val_accuracy: 0.6571\n",
      "Epoch 4/25\n",
      "300/300 [==============================] - 408s 1s/step - loss: 1.1696 - accuracy: 0.6116 - val_loss: 0.8157 - val_accuracy: 0.6829\n",
      "Epoch 5/25\n",
      "300/300 [==============================] - 414s 1s/step - loss: 1.0767 - accuracy: 0.6320 - val_loss: 0.7830 - val_accuracy: 0.6883\n",
      "Epoch 6/25\n",
      "300/300 [==============================] - 414s 1s/step - loss: 1.0475 - accuracy: 0.6386 - val_loss: 0.7997 - val_accuracy: 0.6750\n",
      "Epoch 7/25\n",
      "300/300 [==============================] - 415s 1s/step - loss: 1.0157 - accuracy: 0.6409 - val_loss: 0.7607 - val_accuracy: 0.6875\n",
      "Epoch 8/25\n",
      "300/300 [==============================] - 416s 1s/step - loss: 0.9834 - accuracy: 0.6414 - val_loss: 0.7694 - val_accuracy: 0.6879\n",
      "Epoch 9/25\n",
      "300/300 [==============================] - 418s 1s/step - loss: 0.9895 - accuracy: 0.6502 - val_loss: 0.7942 - val_accuracy: 0.6963\n",
      "Epoch 10/25\n",
      "300/300 [==============================] - 416s 1s/step - loss: 0.9518 - accuracy: 0.6525 - val_loss: 0.7379 - val_accuracy: 0.7063\n",
      "Epoch 11/25\n",
      "300/300 [==============================] - 416s 1s/step - loss: 0.9219 - accuracy: 0.6665 - val_loss: 0.7376 - val_accuracy: 0.7025\n",
      "Epoch 12/25\n",
      "300/300 [==============================] - 416s 1s/step - loss: 0.9396 - accuracy: 0.6569 - val_loss: 0.7289 - val_accuracy: 0.7075\n",
      "Epoch 13/25\n",
      "300/300 [==============================] - 417s 1s/step - loss: 0.9150 - accuracy: 0.6630 - val_loss: 0.7254 - val_accuracy: 0.7113\n",
      "Epoch 14/25\n",
      "300/300 [==============================] - 418s 1s/step - loss: 0.9173 - accuracy: 0.6633 - val_loss: 0.7204 - val_accuracy: 0.7183\n",
      "Epoch 15/25\n",
      "300/300 [==============================] - 417s 1s/step - loss: 0.8929 - accuracy: 0.6671 - val_loss: 0.7204 - val_accuracy: 0.7154\n",
      "Epoch 16/25\n",
      "300/300 [==============================] - 417s 1s/step - loss: 0.9047 - accuracy: 0.6667 - val_loss: 0.7126 - val_accuracy: 0.7092\n",
      "Epoch 17/25\n",
      "300/300 [==============================] - 417s 1s/step - loss: 0.8737 - accuracy: 0.6781 - val_loss: 0.7437 - val_accuracy: 0.6975\n",
      "Epoch 18/25\n",
      "300/300 [==============================] - 418s 1s/step - loss: 0.8618 - accuracy: 0.6696 - val_loss: 0.7171 - val_accuracy: 0.7208\n",
      "Epoch 19/25\n",
      "300/300 [==============================] - 418s 1s/step - loss: 0.8603 - accuracy: 0.6840 - val_loss: 0.7113 - val_accuracy: 0.7250\n",
      "Epoch 20/25\n",
      "300/300 [==============================] - 418s 1s/step - loss: 0.8424 - accuracy: 0.6787 - val_loss: 0.7429 - val_accuracy: 0.6983\n",
      "Epoch 21/25\n",
      "300/300 [==============================] - 418s 1s/step - loss: 0.8501 - accuracy: 0.6816 - val_loss: 0.7000 - val_accuracy: 0.7271\n",
      "Epoch 22/25\n",
      "300/300 [==============================] - 419s 1s/step - loss: 0.8451 - accuracy: 0.6815 - val_loss: 0.7004 - val_accuracy: 0.7329\n",
      "Epoch 23/25\n",
      "300/300 [==============================] - 423s 1s/step - loss: 0.8335 - accuracy: 0.6861 - val_loss: 0.6880 - val_accuracy: 0.7325\n",
      "Epoch 24/25\n",
      "300/300 [==============================] - 418s 1s/step - loss: 0.8372 - accuracy: 0.6878 - val_loss: 0.6862 - val_accuracy: 0.7300\n",
      "Epoch 25/25\n",
      "300/300 [==============================] - 418s 1s/step - loss: 0.7990 - accuracy: 0.6956 - val_loss: 0.6992 - val_accuracy: 0.7283\n"
     ]
    }
   ],
   "source": [
    "# training the model\n",
    "#r_phase = model_phase.fit(train_generator, validation_data=(X_test, y_test), steps_per_epoch=steps_per_epochs, epochs=50)\n",
    "r_phase = model_phase.fit(X_train, y_train, validation_data=(X_test, y_test), epochs=25, callbacks=[early_stop])"
   ]
  },
  {
   "cell_type": "code",
   "execution_count": 27,
   "metadata": {},
   "outputs": [],
   "source": [
    "# We save the model\n",
    "model_phase.save('../../../criticality_trained_models/cnn_ising_phase([2.21, 2.22, 2.23, 2.24, 2.25, 2.26, 2.28, 2.29, 2.30, 2.31, 2.32, Tc],L=128,max_per_temp=1000).h5')"
   ]
  },
  {
   "cell_type": "code",
   "execution_count": 26,
   "metadata": {},
   "outputs": [],
   "source": [
    "# to load it:\n",
    "#model_phase = tf.keras.models.load_model('~/ml/research/criticality_trained_models/cnn_ising_phase.h5')"
   ]
  },
  {
   "cell_type": "code",
   "execution_count": 28,
   "metadata": {
    "colab": {
     "base_uri": "https://localhost:8080/",
     "height": 282
    },
    "executionInfo": {
     "elapsed": 1268392,
     "status": "ok",
     "timestamp": 1609156274480,
     "user": {
      "displayName": "Matt",
      "photoUrl": "https://lh3.googleusercontent.com/a-/AOh14GgIzeuHHD36c1-IgguXB5KjqEoCp7UsZBNQGGvx5Q=s64",
      "userId": "13529861564108685423"
     },
     "user_tz": -540
    },
    "id": "JoQMrkJYG7tN",
    "outputId": "87b8bc10-595d-4619-ace0-8219c6667e43"
   },
   "outputs": [
    {
     "data": {
      "image/png": "[encoded data removed]",
      "text/plain": [
       "<Figure size 1008x432 with 2 Axes>"
      ]
     },
     "metadata": {
      "needs_background": "light"
     },
     "output_type": "display_data"
    }
   ],
   "source": [
    "plt.figure(figsize=(14,6))\n",
    "plt.subplot(1,2,1)\n",
    "plt.plot(r_phase.history['loss'], label='loss')\n",
    "plt.plot(r_phase.history['val_loss'], label='val_loss')\n",
    "plt.legend()\n",
    "plt.subplot(1,2,2)\n",
    "plt.plot(r_phase.history['accuracy'], label='accuracy')\n",
    "plt.plot(r_phase.history['val_accuracy'], label='val_accuracy')\n",
    "plt.legend()\n",
    "plt.show()"
   ]
  },
  {
   "cell_type": "code",
   "execution_count": 29,
   "metadata": {
    "id": "e_Ut01OXHQwj"
   },
   "outputs": [],
   "source": [
    "# Let us plot the confusion matrix\n",
    "p_test = model_phase.predict(X_test).argmax(axis=1)\n",
    "conf_matrix = confusion_matrix(y_test, p_test)"
   ]
  },
  {
   "cell_type": "code",
   "execution_count": 30,
   "metadata": {},
   "outputs": [
    {
     "data": {
      "image/png": "[encoded data removed]",
      "text/plain": [
       "<Figure size 504x504 with 2 Axes>"
      ]
     },
     "metadata": {
      "needs_background": "light"
     },
     "output_type": "display_data"
    }
   ],
   "source": [
    "plt.figure(figsize=(7,7))\n",
    "sns.heatmap(conf_matrix, cmap='Blues', annot=True)\n",
    "plt.xlabel('predicted')\n",
    "plt.ylabel('true label')\n",
    "plt.savefig('../saved_images/cnn_ising_phase([2.21, 2.22, 2.23, 2.24, 2.25, 2.26, 2.28, 2.29, 2.30, 2.31, 2.32, Tc],L=128,max_per_temp=1000).jpg')\n",
    "plt.show()"
   ]
  },
  {
   "cell_type": "code",
   "execution_count": 56,
   "metadata": {},
   "outputs": [],
   "source": [
    "model_previous = tf.keras.models.load_model('../../criticality_trained_models/cnn_ising_phase([2.25, 2.26, 2.28, 2.29],L=256).h5')\n",
    "idir = r'/Users/matthieu.sarkis/ml/research/criticality_data/config-files/L=256'\n",
    "L = 256\n",
    "T_arr = np.append(np.round(np.array([2.25, 2.26, 2.28, 2.29]),4), Tc)\n",
    "X_test, y_test = read_temp_dependent_files_then_merge(idir, L, T_arr, Tc, max_configs_per_temperature=1000)\n",
    "p_test = model_previous.predict(X_test).argmax(axis=1)\n",
    "p_test = np.where(p_test == 0, -1, p_test)\n",
    "p_test = np.where(p_test > 0, 0, p_test)\n",
    "p_test = np.where(p_test == -1, 1, p_test)"
   ]
  },
  {
   "cell_type": "code",
   "execution_count": 57,
   "metadata": {},
   "outputs": [
    {
     "data": {
      "image/png": "[encoded data removed]",
      "text/plain": [
       "<Figure size 504x504 with 2 Axes>"
      ]
     },
     "metadata": {
      "needs_background": "light"
     },
     "output_type": "display_data"
    }
   ],
   "source": [
    "conf_matrix_previous = confusion_matrix(y_test, p_test)\n",
    "plt.figure(figsize=(7,7))\n",
    "sns.heatmap(conf_matrix_previous, cmap='Blues', annot=True)\n",
    "plt.xlabel('predicted')\n",
    "plt.ylabel('true label')\n",
    "plt.show()"
   ]
  },
  {
   "cell_type": "markdown",
   "metadata": {},
   "source": [
    "# Testing on percolation the CNN trained on Ising"
   ]
  },
  {
   "cell_type": "code",
   "execution_count": 2,
   "metadata": {},
   "outputs": [],
   "source": [
    "# to load it:\n",
    "model_trained_on_ising = tf.keras.models.load_model('../../criticality_trained_models/cnn_ising_phase([2.25, 2.26, 2.28, 2.29],L=256).h5')"
   ]
  },
  {
   "cell_type": "code",
   "execution_count": 8,
   "metadata": {},
   "outputs": [],
   "source": [
    "L = 256\n",
    "pc = 0.59274\n",
    "p_arr = np.round(np.array([0.57, 0.58, 0.61, 0.62]), 4)\n",
    "p_arr = np.append(p_arr, pc)\n",
    "X_perco, y_perco = read_percolation_data(L, p_arr, pc, max_configs_per_p=1000)"
   ]
  },
  {
   "cell_type": "code",
   "execution_count": 9,
   "metadata": {
    "id": "e_Ut01OXHQwj"
   },
   "outputs": [],
   "source": [
    "# Let us plot the confusion matrix\n",
    "p_test = model_trained_on_ising.predict(X_perco).argmax(axis=1)"
   ]
  },
  {
   "cell_type": "code",
   "execution_count": 10,
   "metadata": {},
   "outputs": [],
   "source": [
    "p_test = np.where(p_test == 0, -1, p_test)\n",
    "p_test = np.where(p_test > 0, 0, p_test)\n",
    "p_test = np.where(p_test == -1, 1, p_test)\n",
    "\n",
    "conf_matrix_perco = confusion_matrix(y_perco, p_test)"
   ]
  },
  {
   "cell_type": "code",
   "execution_count": 11,
   "metadata": {},
   "outputs": [
    {
     "data": {
      "image/png": "[encoded data removed]",
      "text/plain": [
       "<Figure size 504x504 with 2 Axes>"
      ]
     },
     "metadata": {
      "needs_background": "light"
     },
     "output_type": "display_data"
    }
   ],
   "source": [
    "plt.figure(figsize=(7,7))\n",
    "sns.heatmap(conf_matrix_perco, cmap='Blues', annot=True)\n",
    "plt.xlabel('predicted')\n",
    "plt.ylabel('true label')\n",
    "plt.show()"
   ]
  },
  {
   "cell_type": "code",
   "execution_count": null,
   "metadata": {},
   "outputs": [],
   "source": []
  }
 ],
 "metadata": {
  "kernelspec": {
   "display_name": "Python 3",
   "language": "python",
   "name": "python3"
  },
  "language_info": {
   "codemirror_mode": {
    "name": "ipython",
    "version": 3
   },
   "file_extension": ".py",
   "mimetype": "text/x-python",
   "name": "python",
   "nbconvert_exporter": "python",
   "pygments_lexer": "ipython3",
   "version": "3.8.5"
  }
 },
 "nbformat": 4,
 "nbformat_minor": 4
}
