{
 "cells": [
  {
   "cell_type": "markdown",
   "metadata": {
    "id": "0j65zA8kG7tB"
   },
   "source": [
    "# Imports"
   ]
  },
  {
   "cell_type": "code",
   "execution_count": 1,
   "metadata": {
    "executionInfo": {
     "elapsed": 2091,
     "status": "ok",
     "timestamp": 1609154969126,
     "user": {
      "displayName": "Matt",
      "photoUrl": "https://lh3.googleusercontent.com/a-/AOh14GgIzeuHHD36c1-IgguXB5KjqEoCp7UsZBNQGGvx5Q=s64",
      "userId": "13529861564108685423"
     },
     "user_tz": -540
    },
    "id": "wGZq_nDiG7tJ"
   },
   "outputs": [],
   "source": [
    "import tensorflow as tf\n",
    "import numpy as np\n",
    "import matplotlib.pyplot as plt\n",
    "import seaborn as sns\n",
    "from tensorflow.keras.layers import Input, Conv2D, Dense, Flatten, Dropout, GlobalMaxPooling2D, MaxPooling2D, BatchNormalization\n",
    "from tensorflow.keras.models import Model\n",
    "from sklearn.metrics import confusion_matrix\n",
    "from read_spin_configs import read_temp_dependent_files_then_merge\n",
    "from percolation import read_percolation_data\n",
    "from sklearn.model_selection import train_test_split\n",
    "import sys"
   ]
  },
  {
   "cell_type": "markdown",
   "metadata": {
    "id": "0xGNugguG7tK"
   },
   "source": [
    "# Loading the lattice to be renormalized"
   ]
  },
  {
   "cell_type": "code",
   "execution_count": 30,
   "metadata": {},
   "outputs": [],
   "source": [
    "idir = r'/Users/matthieu.sarkis/ml/research/criticality_data/config-files/L=256'\n",
    "L_initial = 8192\n",
    "L = 256\n",
    "Tc = 2.2692"
   ]
  },
  {
   "cell_type": "code",
   "execution_count": null,
   "metadata": {},
   "outputs": [],
   "source": [
    "T_arr = [2.24]"
   ]
  },
  {
   "cell_type": "code",
   "execution_count": null,
   "metadata": {},
   "outputs": [],
   "source": [
    "X, y = read_temp_dependent_files_then_merge(idir, L_initial, T_arr, Tc, max_configs_per_temperature=1)"
   ]
  },
  {
   "cell_type": "markdown",
   "metadata": {
    "id": "l5soKXf2G7tL"
   },
   "source": [
    "# Definition of the renormalizing CNN"
   ]
  },
  {
   "cell_type": "code",
   "execution_count": 37,
   "metadata": {},
   "outputs": [],
   "source": [
    "def CNN_renormalization(L_initial):\n",
    "    # input layer\n",
    "    i = Input(shape=(L_initial,L_initial,1))\n",
    "\n",
    "    # Renormalization block\n",
    "    x = Conv2D(1, (2,2), activation='relu', padding='valid')(i)\n",
    "    x = BatchNormalization()(x)\n",
    "    x = Conv2D(1, (2,2), activation='relu', padding='valid')(x)\n",
    "    x = BatchNormalization()(x)\n",
    "    x = Conv2D(1, (2,2), activation='relu', padding='valid')(x)\n",
    "    x = BatchNormalization()(x)\n",
    "    x = Conv2D(1, (2,2), activation='relu', padding='valid')(x)\n",
    "    x = BatchNormalization()(x)\n",
    "    x = Conv2D(1, (2,2), activation='relu', padding='valid')(x)\n",
    "    x = BatchNormalization()(x)\n",
    "    \n",
    "    model = Model(i, x)\n",
    "    return model"
   ]
  },
  {
   "cell_type": "code",
   "execution_count": 38,
   "metadata": {
    "executionInfo": {
     "elapsed": 6406,
     "status": "ok",
     "timestamp": 1609154993313,
     "user": {
      "displayName": "Matt",
      "photoUrl": "https://lh3.googleusercontent.com/a-/AOh14GgIzeuHHD36c1-IgguXB5KjqEoCp7UsZBNQGGvx5Q=s64",
      "userId": "13529861564108685423"
     },
     "user_tz": -540
    },
    "id": "EXbhuzgwG7tM"
   },
   "outputs": [],
   "source": [
    "model_convolution = CNN_renormalization(L_initial)"
   ]
  },
  {
   "cell_type": "code",
   "execution_count": 45,
   "metadata": {},
   "outputs": [],
   "source": [
    "# to load it:\n",
    "#model_phase = tf.keras.models.load_model('~/ml/research/criticality_trained_models/cnn_ising_phase.h5')"
   ]
  },
  {
   "cell_type": "code",
   "execution_count": 47,
   "metadata": {
    "id": "e_Ut01OXHQwj"
   },
   "outputs": [],
   "source": [
    "# Let us plot the confusion matrix\n",
    "p_test = model_phase.predict(X_test).argmax(axis=1)\n",
    "conf_matrix = confusion_matrix(y_test, p_test)"
   ]
  }
 ],
 "metadata": {
  "kernelspec": {
   "display_name": "Python 3",
   "language": "python",
   "name": "python3"
  },
  "language_info": {
   "codemirror_mode": {
    "name": "ipython",
    "version": 3
   },
   "file_extension": ".py",
   "mimetype": "text/x-python",
   "name": "python",
   "nbconvert_exporter": "python",
   "pygments_lexer": "ipython3",
   "version": "3.8.5"
  }
 },
 "nbformat": 4,
 "nbformat_minor": 4
}
