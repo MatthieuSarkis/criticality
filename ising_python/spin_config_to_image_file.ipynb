{
 "cells": [
  {
   "cell_type": "code",
   "execution_count": 26,
   "metadata": {},
   "outputs": [],
   "source": [
    "import read_spin_configs as rsc\n",
    "import numpy as np\n",
    "import imageio\n",
    "from matplotlib import image\n",
    "from matplotlib import pyplot"
   ]
  },
  {
   "cell_type": "code",
   "execution_count": 27,
   "metadata": {},
   "outputs": [],
   "source": [
    "imageio.imwrite('/home/sarkis/ml/machine_learning/critical_statModel/code/matthieu/python/Ising/test.jpg', np.array([[1,-1],[-1,1]]).astype(np.uint8))"
   ]
  },
  {
   "cell_type": "code",
   "execution_count": 32,
   "metadata": {},
   "outputs": [
    {
     "name": "stdout",
     "output_type": "stream",
     "text": [
      "uint8\n",
      "(2, 2)\n"
     ]
    },
    {
     "data": {
      "image/png": "[encoded data removed]",
      "text/plain": [
       "<Figure size 432x288 with 1 Axes>"
      ]
     },
     "metadata": {
      "needs_background": "light"
     },
     "output_type": "display_data"
    }
   ],
   "source": [
    "# load image as pixel array\n",
    "im = image.imread('test.jpg')\n",
    "\n",
    "# summarize shape of the pixel array\n",
    "print(im.dtype)\n",
    "print(im.shape)\n",
    "\n",
    "# display the array of pixels as an image\n",
    "pyplot.imshow(im)\n",
    "pyplot.show()"
   ]
  },
  {
   "cell_type": "code",
   "execution_count": 33,
   "metadata": {},
   "outputs": [],
   "source": [
    "def read_binary_convert_to_images(mother_dir_initial, file_name, initial_format='.bin', target_format='.jpg', lattice_size):\n",
    "    mother_dir_final = '{}_images'.format(mother_dir_initial)\n",
    "    data = np.fromfile(fpath, dtype=np.int8)\n",
    "    n_images = data.size / lattice_size**2\n",
    "    fpath_initial = '{}/{}{}'.format(mother_dir_initial, file_name, initial_format)\n",
    "    fpath_final = '{}/{}{}'.format(dir_name, file_name, initial_format)\n",
    "    if not os.path.exists(images_dir):\n",
    "        os.mkdir(images_dir)\n",
    "    \n",
    "    data = data.reshape(lattice_size, lattice_size)\n",
    "    imageio.imwrite('{}_images/{}', data)"
   ]
  },
  {
   "cell_type": "code",
   "execution_count": null,
   "metadata": {},
   "outputs": [],
   "source": [
    "import glob\n",
    "import os\n",
    "import numpy as np\n",
    "import sys\n",
    "\n",
    "def to_image(idir, L, T, base='spin', fmt='.bins', new_fmt='.jpg'):\n",
    "    pattern = os.path.join(idir, '{}(L={},T={:.4f})*{}'.format(base,L, T, fmt))\n",
    "    flist = glob.glob(pattern)\n",
    "    \n",
    "    if len(flist) == 0:\n",
    "        return\n",
    "    \n",
    "    for path in flist:\n",
    "        data = np.fromfile(path, dtype='int8')\n",
    "        \n",
    "    data = np.array(data).reshape(-1,L,L,1)\n",
    "    \n",
    "    if max_n_configs > 0:\n",
    "        return data[:max_n_configs, :, :, :]\n",
    "    return data\n",
    "\n",
    "def merge_data(idir, L, T_arr):\n",
    "    for T in T_arr:    \n",
    "        to_image(idir, L, T)\n"
   ]
  },
  {
   "cell_type": "code",
   "execution_count": null,
   "metadata": {},
   "outputs": [],
   "source": [
    "base = 'spin'\n",
    "idir = '~/Desktop/config-files/L={}/'\n",
    "pattern = os.path.join(idir, '{}(L={},T=*{}'.format(L, base, L, fmt))\n",
    "flist = glob.glob(pattern)\n",
    "\n",
    "data = np.fromfile(path, dtype='int8')\n",
    "data = np.array(data).reshape(-1,L,L,1)\n",
    "N = data.shape[0]\n",
    "for i in range(N):\n",
    "    im = data[i]\n",
    "    imageio.imwrite('~/Desktop/config-images/test{}.jpg'.format(i), im.astype(np.uint8))"
   ]
  }
 ],
 "metadata": {
  "kernelspec": {
   "display_name": "Python 3",
   "language": "python",
   "name": "python3"
  },
  "language_info": {
   "codemirror_mode": {
    "name": "ipython",
    "version": 3
   },
   "file_extension": ".py",
   "mimetype": "text/x-python",
   "name": "python",
   "nbconvert_exporter": "python",
   "pygments_lexer": "ipython3",
   "version": "3.8.5"
  }
 },
 "nbformat": 4,
 "nbformat_minor": 4
}
