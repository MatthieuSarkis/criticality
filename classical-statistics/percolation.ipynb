{
 "cells": [
  {
   "cell_type": "code",
   "execution_count": 1,
   "id": "advanced-rabbit",
   "metadata": {},
   "outputs": [],
   "source": [
    "import numpy as np\n",
    "import matplotlib.pyplot as plt\n",
    "from scipy.ndimage import measurements"
   ]
  },
  {
   "cell_type": "markdown",
   "id": "respiratory-division",
   "metadata": {},
   "source": [
    "## Utilities"
   ]
  },
  {
   "cell_type": "code",
   "execution_count": 13,
   "id": "remarkable-limit",
   "metadata": {},
   "outputs": [],
   "source": [
    "def create_site_get_label(L, p):\n",
    "    '''\n",
    "    creating a site percolation and then do coloring \n",
    "    and retruning some statistics.\n",
    "    '''\n",
    "    # create the site percolation\n",
    "    site = np.random.rand(L,L) < p\n",
    "    # the label of each site after clustering\n",
    "    label, n_clusters = measurements.label(site)\n",
    "    # the area of each cluster\n",
    "    area = measurements.sum(site, label, index=np.arange(label.max() + 1))\n",
    "    area = area.astype(int)\n",
    "    \n",
    "    return site, label, n_clusters, area"
   ]
  },
  {
   "cell_type": "code",
   "execution_count": 14,
   "id": "genetic-christian",
   "metadata": {},
   "outputs": [],
   "source": [
    "def plot_sites(site_list, label_list=None, show_axes=True):\n",
    "\n",
    "    if label_list is None:\n",
    "        label_list = [None for i in range(len(site_list))] \n",
    "        \n",
    "    nrow, ncol = 1, len(site_list)\n",
    "    plt.figure(figsize=(6, 4))\n",
    "\n",
    "    i = 0\n",
    "    for site, label in zip(site_list, label_list):\n",
    "        plt.subplot(nrow, ncol, i + 1)\n",
    "        plt.imshow(site)\n",
    "        if not show_axes:\n",
    "            plt.axis('off')\n",
    "        if label is not None:\n",
    "            plt.title(label)\n",
    "        i += 1\n",
    "    # end for i"
   ]
  },
  {
   "cell_type": "markdown",
   "id": "strange-ghana",
   "metadata": {},
   "source": [
    "## Init Data"
   ]
  },
  {
   "cell_type": "code",
   "execution_count": 15,
   "id": "finnish-while",
   "metadata": {},
   "outputs": [],
   "source": [
    "pc = 0.5928   # the critical thershold"
   ]
  },
  {
   "cell_type": "markdown",
   "id": "latin-combat",
   "metadata": {},
   "source": [
    "# Just for testing"
   ]
  },
  {
   "cell_type": "code",
   "execution_count": 16,
   "id": "single-stretch",
   "metadata": {},
   "outputs": [
    {
     "data": {
      "image/png": "[encoded data removed]",
      "text/plain": [
       "<Figure size 432x288 with 2 Axes>"
      ]
     },
     "metadata": {
      "needs_background": "light"
     },
     "output_type": "display_data"
    }
   ],
   "source": [
    "site, label, n_clusters, area = create_site_get_label(32, pc)\n",
    "plot_sites([site, label], ['site', 'label'])"
   ]
  },
  {
   "cell_type": "markdown",
   "id": "square-density",
   "metadata": {},
   "source": [
    "# Cluster Number Density\n",
    "\n",
    "The cluster number density $n(s,p)$ is the probability for a site to be a particular site in a cluster of size $s$.\n",
    "\n",
    "We can calculate using below definitions: \\\n",
    "$p$: the percolation control parameter \\\n",
    "$s$: the cluster size \\\n",
    "$M$: the number of realiztions \\\n",
    "$N_s(M)$: the number of clusters of size s measured in $M$ realizations of the percolation system \\\n",
    "estimation of cluster number density $n(s, p) \\approx \\frac{ N_s(M)}{L^2  M}$\n"
   ]
  },
  {
   "cell_type": "code",
   "execution_count": null,
   "id": "leading-update",
   "metadata": {},
   "outputs": [],
   "source": [
    "#from tqdm import tqdm_notebook as tqdm\n",
    "from tqdm import trange\n",
    "\n",
    "def cluster_number_density(L, p, M, show_progress=True): \n",
    "    \n",
    "    all_area = np.array([], dtype=int)  \n",
    "    \n",
    "    if show_progress:\n",
    "        myrange = trange(M)\n",
    "    else:\n",
    "        myrange = range(M)\n",
    "    \n",
    "    for i in myrange:\n",
    "        site, label, n_clusters, area = create_site_get_label(L, p)\n",
    "        all_area = np.append(all_area, area)\n",
    "    # end for i\n",
    "    \n",
    "    NsM = np.bincount(all_area)\n",
    "    nsp = NsM.astype(float) / (L**2 * M)\n",
    "    \n",
    "    return nsp, len(all_area)\n",
    "    "
   ]
  },
  {
   "cell_type": "markdown",
   "id": "private-excess",
   "metadata": {},
   "source": [
    "## Statistics"
   ]
  },
  {
   "cell_type": "code",
   "execution_count": null,
   "id": "equal-victim",
   "metadata": {},
   "outputs": [],
   "source": [
    "L = 1024\n",
    "n_realizations = 5000\n",
    "p_list = [pc, 0.59, 0.6, 0.58, 0.61, 0.5, 0.7] \n",
    "p_list.sort()"
   ]
  },
  {
   "cell_type": "code",
   "execution_count": null,
   "id": "initial-multiple",
   "metadata": {},
   "outputs": [],
   "source": [
    "nsp_list, ndata_list = [], []\n",
    "\n",
    "for p in p_list:\n",
    "    print ('# L={}, p={}'.format(L, p), flush=True)\n",
    "    nsp, ndata = cluster_number_density(L, p, n_realizations, show_progress=True)\n",
    "    nsp_list.append(nsp)\n",
    "    ndata_list.append(ndata)\n",
    "    "
   ]
  },
  {
   "cell_type": "markdown",
   "id": "satisfied-bathroom",
   "metadata": {},
   "source": [
    "## Plot"
   ]
  },
  {
   "cell_type": "code",
   "execution_count": null,
   "id": "seven-lodging",
   "metadata": {},
   "outputs": [],
   "source": [
    "import histogram\n",
    "\n",
    "i = 0\n",
    "plt.figure(figsize=(9,6))\n",
    "for p in p_list:\n",
    "    nsp, ndata = nsp_list[i], ndata_list[i]\n",
    "    \n",
    "    s = np.arange(len(nsp))\n",
    "    x, y, dx = histogram.hist(s[1:], nsp[1:], \n",
    "                              nbins=75, density=False, log_bin=True)\n",
    "    \n",
    "    x, y = x[10:], y[10:]\n",
    "    \n",
    "    print('p={}, ndata={}'.format(p, ndata))\n",
    "     \n",
    "\n",
    "    plt.loglog(x, y, \n",
    "               label='$p={}$'.format(p),\n",
    "               marker='o', \n",
    "               ls='',\n",
    "               markersize=5, )\n",
    "    i += 1\n",
    "\n",
    "# end for\n",
    "\n",
    "plt.title('$L={}, p_c={}$'.format(L, pc))\n",
    "plt.xlabel('$s$')\n",
    "plt.ylabel('$n(s,p)$')\n",
    "plt.legend(loc='best', frameon=False, bbox_to_anchor=(1.01, 1))\n",
    "plt.savefig('n(s,p)--L_{}_M_{}.pdf'.format(L, n_realizations), \n",
    "            pad_inches=0.05, bbox_inches='tight')"
   ]
  },
  {
   "cell_type": "markdown",
   "id": "remarkable-eight",
   "metadata": {},
   "source": [
    "## Average (mean) cluster size\n",
    "\n",
    "The average cluster size S is defined as follows: We point to a random point in the percolation system. What is the average size of the cluster connected to that point?\n",
    "\n",
    "$S(p) = \\langle s \\rangle = \\sum_s s \\left ( \\frac{s n(s,p)}{\\sum_s s n(s,p)} \\right ) $ \n",
    "\n",
    "But in simulation, we just can estimate the value of $S(p)$ which is $\\approx \\sum_s s^2 N_s / L^2 = \\sum_i s_i^2 / L^2$, \\\n",
    "where $N_s$ is the number of clusters of size s measured in current realization. It is worth noting that we should ignore the infinite cluster from above relation. "
   ]
  },
  {
   "cell_type": "code",
   "execution_count": null,
   "id": "damaged-alpha",
   "metadata": {},
   "outputs": [],
   "source": [
    "def average_cluser_size(L, p, M, show_progress=True): \n",
    "    \n",
    "    if show_progress:\n",
    "        myrange = trange(M)\n",
    "    else:\n",
    "        myrange = range(M)\n",
    "    \n",
    "    S = 0\n",
    "    for i in myrange:\n",
    "        site, label, n_clusters, area = create_site_get_label(L, p)\n",
    "        \n",
    "        # Remove spanning cluster by setting its area to zero\n",
    "        perc_x = np.intersect1d(label[0,:], label[-1,:]) # spanning along x axis\n",
    "        perc = perc_x[np.where(perc_x > 0)] \n",
    "        if len(perc) > 0: \n",
    "            area[perc[0]] = 0\n",
    "        S += np.sum(area * area)  \n",
    "        \n",
    "    # end for i\n",
    "    \n",
    "    return S / (M * L**2)\n",
    "    "
   ]
  },
  {
   "cell_type": "code",
   "execution_count": null,
   "id": "august-pointer",
   "metadata": {},
   "outputs": [],
   "source": [
    "L = 128\n",
    "n_realizations = 1000\n",
    "\n",
    "p_list = [] \\\n",
    "+ [round(0.6 - i*0.01, 4) for i in range(0, 25)] \\\n",
    "+ [round(0.6 + i*0.01, 4) for i in range(0, 25)]\n",
    "\n",
    "p_list.sort()"
   ]
  },
  {
   "cell_type": "code",
   "execution_count": null,
   "id": "stunning-heaven",
   "metadata": {},
   "outputs": [],
   "source": [
    "Sp_list = []\n",
    "\n",
    "for p in p_list:\n",
    "    print ('# p={}'.format(p), flush=True)\n",
    "    Sp = average_cluser_size(L, p, n_realizations, show_progress=False)\n",
    "    Sp_list.append(Sp)\n"
   ]
  },
  {
   "cell_type": "markdown",
   "id": "provincial-enemy",
   "metadata": {},
   "source": [
    "# Plot"
   ]
  },
  {
   "cell_type": "code",
   "execution_count": null,
   "id": "duplicate-collective",
   "metadata": {},
   "outputs": [],
   "source": [
    "plt.plot(p_list, Sp_list, '.--', lw=0.2)\n",
    "plt.title('$L={}, pc={}$'.format(L, pc))\n",
    "plt.grid()\n",
    "plt.axvline(x=pc, color='k', lw=1, ls='--')\n",
    "plt.xlabel('$p$')\n",
    "plt.ylabel('$S(p)$')\n",
    "plt.savefig('S(p)--L_{}_M_{}.pdf'.format(L, n_realizations), \n",
    "            pad_inches=0.05, bbox_inches='tight')"
   ]
  },
  {
   "cell_type": "code",
   "execution_count": null,
   "id": "digital-notebook",
   "metadata": {},
   "outputs": [],
   "source": []
  }
 ],
 "metadata": {
  "kernelspec": {
   "display_name": "Python 3",
   "language": "python",
   "name": "python3"
  },
  "language_info": {
   "codemirror_mode": {
    "name": "ipython",
    "version": 3
   },
   "file_extension": ".py",
   "mimetype": "text/x-python",
   "name": "python",
   "nbconvert_exporter": "python",
   "pygments_lexer": "ipython3",
   "version": "3.8.5"
  }
 },
 "nbformat": 4,
 "nbformat_minor": 5
}
